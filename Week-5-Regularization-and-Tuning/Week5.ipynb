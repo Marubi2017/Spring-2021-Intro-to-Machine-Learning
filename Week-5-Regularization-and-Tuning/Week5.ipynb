{
 "cells": [
  {
   "cell_type": "markdown",
   "metadata": {},
   "source": [
    "# Week 5: Regularization and Hyperparameter Tuning\n",
    "\n",
    "This week, we take a dive into how to improve the performance of our machine learning models. We will focus on regression problems, where we try to predict a numerical value, but the ideas herein are pretty universal across supervised machine learning.\n",
    "\n",
    "First, **regularization** methods sometimes help improve a model's ability to make good predictions on the test set, often at the expense of training accuracy. We focus on some methods developed by mathematician Andrey Tikhonov and used for solving ill-posed inverse problems. Some special cases of his methods and new innovations have become incredibly popular in machine learning.\n",
    "\n",
    "Second, machine learning models we have seen have trainable parameters determined by a learning algorithm, such as the coefficients in linear regression and the shape and prototype parameters in radial basis functions. **Hyperparameters** are numbers we set or decisions we make before running learning algorithms. Wednesday, we focus on effectively making these choices for performance, or **tuning** them.\n",
    "\n",
    "## Lecture 12: Regularization and Overfitting\n",
    "\n",
    "The problem of **overfitting** is an issue where a machine learning model fits too strongly to the training data, which reduces its ability to generalize to make good predictions on the test set. High performance on the test set is typically our most important goal, because this measures how the model performs on data it has not seen before, indicating the model should perform well on real-world data, assuming the test data are representative of the data we hope to predict.\n",
    "\n",
    "Below, we implement ridge regression, which imposes an $L^2$ penalty on the model parameters to minimize the loss function\n",
    "\n",
    "$$L(\\theta) = \\|\\theta_0 + X\\theta - y\\| + \\lambda_2\\|\\theta\\|^2$$"
   ]
  },
  {
   "cell_type": "code",
   "execution_count": 1,
   "metadata": {},
   "outputs": [],
   "source": [
    "import numpy as np\n",
    "import matplotlib.pyplot as plt\n",
    "import pandas as pd\n",
    "from sklearn.metrics import mean_squared_error\n",
    "from sklearn.metrics import mean_absolute_error\n",
    "from sklearn.metrics import r2_score\n",
    "from sklearn.model_selection import train_test_split\n",
    "from sklearn.preprocessing import scale"
   ]
  },
  {
   "cell_type": "code",
   "execution_count": 2,
   "metadata": {},
   "outputs": [],
   "source": [
    "class RidgeRegression:\n",
    "    \n",
    "    def __init__(self, alpha = 0.001, lambda2 = 0):\n",
    "        # save variables to object memory\n",
    "        self.alpha = alpha\n",
    "        self.lambda2 = lambda2\n",
    "        \n",
    "    # fit the model to the data\n",
    "    def fit(self, X, y, epochs = 1000, update = 100):\n",
    "        # find the dimension of the data\n",
    "        d = X.shape[1]\n",
    "        \n",
    "        # initialize the model parameters\n",
    "        self.theta0 = np.random.uniform()\n",
    "        self.theta = np.random.uniform(size = d)\n",
    "        \n",
    "        # compute the means of X and y\n",
    "        yMean = np.mean(y)\n",
    "        xMean = np.mean(X, axis = 0)\n",
    "        \n",
    "        # standardize the data\n",
    "        X = scale(X)\n",
    "        y = scale(y)\n",
    "        \n",
    "        # compute a scaling parameter\n",
    "        eta = np.linalg.norm(X)\n",
    "        \n",
    "        # train the model\n",
    "        for i in range(epochs):\n",
    "            # compute the predicted y values\n",
    "            predictions = self.theta0 + X @ self.theta\n",
    "            \n",
    "            # compute the error\n",
    "            error = predictions - y\n",
    "            \n",
    "            # compute the sum of squared errors\n",
    "            sse = np.sum(error ** 2)\n",
    "            \n",
    "            # compute the loss\n",
    "            loss = sse + self.lambda2 * np.linalg.norm(self.theta) ** 2 #+ self.lambda1 * np.sum(np.abs(self.theta))\n",
    "\n",
    "            # print an update\n",
    "            if (i + 1) % update == 0:\n",
    "                print('Epoch', i + 1, '\\tLoss', loss)\n",
    "                                                \n",
    "            # weight update for the bias\n",
    "            self.theta -= self.alpha * (X.T @ error + 2 * self.lambda2 * self.theta)\n",
    "            self.theta0 = yMean - xMean @ self.theta\n",
    "\n",
    "    # predict the output from input (testing) data\n",
    "    def predict(self, X):\n",
    "        # return the predicted outputs\n",
    "        return self.theta0 + X @ self.theta"
   ]
  },
  {
   "cell_type": "markdown",
   "metadata": {},
   "source": [
    "Let's test it on a small, simple dataset to check that it works."
   ]
  },
  {
   "cell_type": "code",
   "execution_count": 7,
   "metadata": {},
   "outputs": [
    {
     "name": "stdout",
     "output_type": "stream",
     "text": [
      "Epoch 10 \tLoss 45.48346562073978\n",
      "Epoch 20 \tLoss 23.670366633568364\n",
      "Epoch 30 \tLoss 12.174879265095795\n",
      "Epoch 40 \tLoss 6.528409812587276\n",
      "Epoch 50 \tLoss 4.1203887883603185\n",
      "Epoch 60 \tLoss 3.441580532140384\n",
      "Epoch 70 \tLoss 3.6321674298625077\n",
      "Epoch 80 \tLoss 4.212593783807319\n",
      "Epoch 90 \tLoss 4.923839150995452\n",
      "Epoch 100 \tLoss 5.6330864403394045\n",
      "The predicted y values are [2.11481951 2.35740975 2.6        2.84259025 3.08518049]\n",
      "The real y values are [1 2 3 3 4]\n",
      "The theta values are [0.65927803 0.24259025]\n",
      "The r^2 score is 0.5399544552700626\n",
      "The mean squared error is 0.478447366519135\n",
      "The mean absolute error is 0.5888917050692032\n"
     ]
    },
    {
     "data": {
      "image/png": "[encoded data removed]",
      "text/plain": [
       "<Figure size 432x288 with 1 Axes>"
      ]
     },
     "metadata": {
      "needs_background": "light"
     },
     "output_type": "display_data"
    }
   ],
   "source": [
    "X = np.array([[6], [7], [8], [9], [10]])\n",
    "y = np.array([1, 2, 3, 3, 4])\n",
    "\n",
    "model = RidgeRegression(lambda2 = 10)\n",
    "model.fit(X, y, epochs = 100, update = 10)\n",
    "predictions = model.predict(X)\n",
    "\n",
    "# print the predictions\n",
    "print('The predicted y values are', predictions)\n",
    "\n",
    "# print the real y values\n",
    "print('The real y values are', y)\n",
    "\n",
    "# print the beta values\n",
    "parameters = np.concatenate((np.atleast_1d(model.theta0), model.theta))\n",
    "print('The theta values are', parameters)\n",
    "\n",
    "# plot the training points\n",
    "plt.scatter(X, y, label = 'Training Data')\n",
    "\n",
    "# plot the fitted model with the training data\n",
    "xModel = np.linspace(6,10,100)\n",
    "yModel = parameters[0] + parameters[1]*xModel\n",
    "lineFormula = 'y={:.3f}+{:.3f}x'.format(parameters[0], parameters[1])\n",
    "plt.plot(xModel, yModel, 'r', label = lineFormula)\n",
    "\n",
    "# add a legend\n",
    "plt.legend()\n",
    "\n",
    "# return quality metrics\n",
    "print('The r^2 score is', r2_score(y, predictions))\n",
    "print('The mean squared error is', mean_squared_error(y, predictions))\n",
    "print('The mean absolute error is', mean_absolute_error(y, predictions))"
   ]
  },
  {
   "cell_type": "markdown",
   "metadata": {},
   "source": [
    "## Lecture 12: Hyperparameter Tuning and Cross-Validation\n",
    "\n",
    "As our models grow in complexity, we have added a number of hyperparameters to various models, including learning rate, $L^1$ and $L^2$ penalty coefficients, numbers of prototype points in radial basis functions (RBFs) or number of basis functions in linear basis functions (LBFs), and so on, that we need to test models with different hyperparameter settings to see what hyperparameters are effective.\n",
    "\n",
    "However, if we continue with just splitting data into training and test splits and testing all these different models on the same test set, we are undoing the purpose of the train/test split--to test a model on data it has never seen. Here, we are looking at the test set over and over until a model fits well to it, which is not an effective test of performance on new data. Beyond that, we risk overfitting, where the model works well on the data we use, but fails to effectively generalize to truly new data.\n",
    "\n",
    "**Cross-validation** is any of a number of methods for assessing how well a model will generalize to a new data set.\n",
    "\n",
    "The simplest form of cross-validation is to randomly split the data into three subsets:\n",
    "\n",
    "* Training set\n",
    "* Development set (sometimes called the \"dev\" set or validation set)\n",
    "* Testing set\n",
    "\n",
    "And following the procedure for **tuning hyperparameters**:\n",
    "\n",
    "1. Choose some settings for the hyperparameters.\n",
    "2. Train the model on the training set.\n",
    "3. Test the model on the dev set.\n",
    "4. Go back to step 1 until you are satisfied with the hyperparameters.\n",
    "5. Test the model with the hyperparameters chosen on the test set.\n",
    "\n",
    "It is very possible to make this procedure more sophisticated in useful ways by, for example, doing some sort of automated search of the hyperparameter space in steps 1-4. If there are not too many hyperparameters and the model is not computationally expensive to train and test, you can do a grid search via nested loops.\n",
    "\n",
    "This method of cross-validation is recommended when the number of datapoints in the training set is large compared to the dimension of the data. There are no rules set in stone, but a common train/dev/test split is 60\\%/20\\%/20\\% for datasets with hundreds or thousands of datapoints. However, for huge datasets of millions of datapoints, it has been suggested that much smaller dev and test sets are good enough."
   ]
  }
 ],
 "metadata": {
  "kernelspec": {
   "display_name": "Python 3.8 (DL)",
   "language": "python",
   "name": "dl"
  },
  "language_info": {
   "codemirror_mode": {
    "name": "ipython",
    "version": 3
   },
   "file_extension": ".py",
   "mimetype": "text/x-python",
   "name": "python",
   "nbconvert_exporter": "python",
   "pygments_lexer": "ipython3",
   "version": "3.8.5"
  }
 },
 "nbformat": 4,
 "nbformat_minor": 4
}
