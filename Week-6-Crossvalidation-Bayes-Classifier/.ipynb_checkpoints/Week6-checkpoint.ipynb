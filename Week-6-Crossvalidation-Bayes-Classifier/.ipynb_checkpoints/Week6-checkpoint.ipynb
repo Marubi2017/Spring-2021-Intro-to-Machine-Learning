{
 "cells": [
  {
   "cell_type": "markdown",
   "metadata": {},
   "source": [
    "# Week 6: K-fold Cross-validation and the Bayes Classifier\n",
    "\n",
    "## Lecture 13: K-fold Cross-validation\n",
    "\n",
    "For the `scikit-learn` implementation details, see https://scikit-learn.org/stable/modules/cross_validation.html. We will frequently use the method in the future.\n",
    "\n",
    "## Lecture 14: Probability Crash Course for Classification and the Bayes Classifier\n",
    "\n",
    "In this lecture, we followed parts of Ch 2 and Ch 18.1 from [Data Mining and Machine Learning: Fundamental Concepts and Algorithms](https://dataminingbook.info/) by Zaki and Meira, Jr.\n",
    "\n",
    "### Measuring Success\n",
    "\n",
    " For a specific class labeled 1, we denote\n",
    "\n",
    "$c_{00}$ is the number of test examples in class 0 classified in class 0 (true negatives)\n",
    "\n",
    "$c_{01}$ is the number of test examples in class 0 classified in class 1 (false positives)\n",
    "\n",
    "$c_{10}$ is the number of test examples in class 1 classified in class 0 (false negatives)\n",
    "\n",
    "$c_{11}$ is the number of test examples in class 1 classified in class 1 (true positives)\n",
    "\n",
    "These numbers are sometimes included in what is called a **confusion matrix**\n",
    "\n",
    "$$\n",
    "\\begin{align}\n",
    "\\begin{pmatrix}\n",
    "c_{00} & c_{01} \\\\\n",
    "c_{10} & c_{11}\n",
    "\\end{pmatrix}\n",
    "\\end{align}\n",
    "$$\n",
    "\n",
    "There are a few different measures of success in common usage. Each one can be computed for each class.\n",
    "\n",
    "* Accuracy\n",
    "\n",
    "$$\n",
    "\\begin{align}\n",
    "\\text{Accuracy}=\\frac{\\text{# of true classifications}}{\\text{# of test examples}}=\\frac{c_{00}+c_{11}}{c_{00}+c_{01}+c_{10}+c_{11}}\n",
    "\\end{align}\n",
    "$$\n",
    "\n",
    "\n",
    "\n",
    "* Precision\n",
    "\n",
    "$$\n",
    "\\begin{align}\n",
    "\\text{Precision}=\\frac{\\text{# of true positives}}{\\text{# of positive classifications}}=\\frac{c_{11}}{c_{01}+c_{11}}\n",
    "\\end{align}\n",
    "$$\n",
    "\n",
    "* Recall\n",
    "\n",
    "$$\n",
    "\\begin{align}\n",
    "\\text{Recall}=\\frac{\\text{# of true positives}}{\\text{# of positive examples}}=\\frac{c_{11}}{c_{10}+c_{11}}\n",
    "\\end{align}\n",
    "$$\n",
    "\n",
    "* F1 Score\n",
    "\n",
    "$$\n",
    "\\begin{align}\n",
    "F_1=\\frac{2\\text{(precision)(recall)}}{\\text{precision + recall}}\n",
    "\\end{align}\n",
    "$$\n",
    "\n",
    "It is convenient to use the <a href=\"https://scikit-learn.org/stable/modules/generated/sklearn.metrics.classification_report.html\">classification_report</a> function from the <a href=\"https://scikit-learn.org/stable/modules/classes.html#module-sklearn.metrics\">sklearn.metrics</a> module with inputs of the test set labels and then the labels predicted by the classifier. This will return the precision and recall for each class, accuracy, and some additional quality metrics.\n",
    "\n",
    "### Classification Problems\n",
    "\n",
    "**Classification problems** are problems where we would like to take datapoints and assign them to an appropriate **class** based on some examples that have known classes.\n",
    "\n",
    "### Examples\n",
    "\n",
    "* If we have a dataset of medical records where each datapoint has a single patient's age, weight, blood pressure, status as a smoker or not, and other information and each patient is known to either have or not have kidney disease. We might want take data from a new patient and predict if he or she is likely to develop kidney disease.\n",
    "\n",
    "* If we have a dataset of labeled images of cat and dogs, we might want to take a new image and classify whether it has a dog or a cat. (How does Google image search know how to find pictures of what you search?)\n",
    "\n",
    "* If we have a dataset of audio files, each of which is a jazz, classical, rock, pop, or hip-hop song, we might want to predict the genre of a new audio file. (Spotify does this kind of analysis to recommend songs based on your listening history.)\n",
    "\n",
    "* If we have a dataset of traffic logs on a network, some known to be infected by a specific virus and some are not, we might want to use this information to classify a new traffic log as likely to be infected or not.\n",
    "\n",
    "* If we have a dataset of sounds of people speaking along with transcripts of the words, we might want to classify the words spoken into a microphone. (Think Siri!)\n",
    "\n",
    "In all of these cases, the information can be represented as a point in the $n$-dimensional real space.\n",
    "\n",
    "* The medical records would have numbers for age, weight, and blood pressure and a binary digit for non-smoker or smoker.\n",
    "\n",
    "<img src=\"images/medicalRecords.png\" />\n",
    "\n",
    "* The dog/cat images might have three channels for a picture, meaning three numbers for each pixel (the red, green, and blue levels) like the bird picture below.\n",
    "\n",
    "<img src=\"images/birdRGB.png\" />\n",
    "\n",
    "* The audio files might have numbers specifying the type of sound for the song many times per second.\n",
    "\n",
    "<img src=\"images/audioFile.png\" />\n",
    "\n",
    "* The network traffic logs might have numbers of packets transferred, file size, ports, addresses, the content of the packets, etc.\n",
    "\n",
    "* The audio files might have numbers specifying the type of sound for a word many times per second.\n",
    "\n",
    "<img src=\"images/audioWords.png\" />\n",
    "The blue lines indicate the beginning of a word and the red lines indicate the ends of words.\n",
    "\n",
    "In all mature applications, there are likely preprocessing steps done before the classification is done.\n",
    "\n",
    "I chose these applications to demonstrate two things: (1) classification problems are interesting and useful in almost every area of study and (2) a huge class of classification problems have much in common mathematically. All apply to datapoints, although some types of data may have far more dimensions than others--a medical record may only have 10 to 12 numbers, but a 12-megapixel photo from the latest iPhone would have $4,000\\times 3,000\\times 3=36,000,000$ numbers, 3 for each pixel).\n",
    "\n",
    "### The Math of a Classification Problem\n",
    "\n",
    "To exploit the similarities, let's abstract away the specifics of the applications for now and think about how to describe a classification problem mathematically. Consider a $d$-dimensional point, or vector, $x_1\\in\\mathbb{R}^d$ and denote $x=(x_{11},x_{12},...,x_{1d})$. $x$ is a member one of $k$ classes $C=\\{c_1, c_2, ..., c_k\\}$. We call the point $x_1$ an **example** and we call the class the **label** of $x_1$.\n",
    "\n",
    "The goal of a classification problem is to find a function $M:\\mathbb{R}^d\\to C$ mapping each example $x_1$ to its class $y_1=M(x_1)$ and will generalize to successfully classify new, unlabeled datapoints with high accuracy.\n",
    "\n",
    "This will segment the space $\\mathbb{R}^d$ into sets $X_j=\\{x_1\\in\\mathbb{R}^d | M(x_1)=c_j\\}$ corresponding to each class. In the image below, for example, the space $\\mathbb{R}^2$ is partitioned into three sets colored red, blue, and green.\n",
    "\n",
    "<img src=\"images/knnTessellation.png\" />\n",
    "The colored points are labeled examples and the $\\mathbb{R}^2$ space is colored by the class to be assigned to points in different regions. (image from Wikipedia)\n",
    "\n",
    "### Classification Algorithms\n",
    "\n",
    "There are many algorithms used for classification. Some of the most popular include\n",
    "\n",
    "* Bayes and naive Bayes\n",
    "* $k$-nearest neighbors\n",
    "* decision trees\n",
    "* logistic regression\n",
    "* support vector machines\n",
    "* neural networks (many types)\n",
    "\n",
    "as well as tree-based algorithms that systematically apply an ensemble of different classifiers. Any of the methods above are good choices and there are pros and cons of each, but we only consider the Bayes classifiers this week.\n",
    "\n",
    "## Lecture 15: The Bayes and Naive Bayes Classifiers\n",
    "\n",
    "With the ideas of how the Bayes classifier works, we can now implement it, but let's first import some libraries."
   ]
  },
  {
   "cell_type": "code",
   "execution_count": 9,
   "metadata": {},
   "outputs": [],
   "source": [
    "import matplotlib.pyplot as plt\n",
    "import numpy as np\n",
    "import seaborn as sn\n",
    "\n",
    "from scipy.stats import multivariate_normal\n",
    "from sklearn import datasets\n",
    "from sklearn.metrics import classification_report\n",
    "from sklearn.metrics import confusion_matrix\n",
    "from sklearn.model_selection import train_test_split\n",
    "import scipy\n",
    "from tensorflow.keras.datasets import mnist\n",
    "\n",
    "# increase the width of boxes in the notebook file (this is only cosmetic)\n",
    "np.set_printoptions(linewidth=180)"
   ]
  },
  {
   "cell_type": "markdown",
   "metadata": {},
   "source": [
    "### The Bayes Classifier"
   ]
  },
  {
   "cell_type": "code",
   "execution_count": 10,
   "metadata": {},
   "outputs": [],
   "source": [
    "class BayesClassifier:\n",
    "    def fit(self, X, Y):     \n",
    "        # find the unique labels\n",
    "        uniqueY = np.unique(Y)\n",
    "        \n",
    "        # find the dimensions\n",
    "        n = X.shape[0]\n",
    "        self.d = X.shape[1]\n",
    "        self.k = uniqueY.shape[0]\n",
    "        \n",
    "        # initialize the outputs\n",
    "        self.prior = np.zeros([self.k, 1])\n",
    "        self.mu = np.zeros([self.k, self.d])\n",
    "        self.Sigma = np.zeros([self.k, self.d, self.d])\n",
    "        \n",
    "        # compute class prior probabilities, sample means, and sample covariances\n",
    "        for i, y in enumerate(uniqueY):\n",
    "            print('Training for class', y)\n",
    "            # split the X into its classes\n",
    "            Xi = X[Y == y]\n",
    "            \n",
    "            # compute the size of each class\n",
    "            ni = Xi.shape[0]\n",
    "            \n",
    "            # compute the priors\n",
    "            self.prior[i] = ni / n\n",
    "            \n",
    "            # compute the sample mean\n",
    "            self.mu[i] = np.mean(Xi, axis = 0)\n",
    "            \n",
    "            # compute the centered data\n",
    "            XiBar = Xi - self.mu[i]\n",
    "            \n",
    "            # compute the sample covariance\n",
    "            self.Sigma[i] = (1/ni) * XiBar.T @ XiBar\n",
    "            \n",
    "    def predict(self, X):\n",
    "        n = X.shape[0]\n",
    "        \n",
    "        posteriorPre = np.zeros([n, self.k])\n",
    "        \n",
    "        # compute the pdf term of the posterior probabilities\n",
    "        for i in range(n):\n",
    "            for j in range(self.k):\n",
    "                posteriorPre[i][j] = scipy.stats.multivariate_normal.pdf(X[i], self.mu[j], self.Sigma[j], allow_singular = True)\n",
    "                \n",
    "        # compute a vector proportional to the posterior probabilities\n",
    "        posterior = posteriorPre * self.prior.T\n",
    "\n",
    "        # find the label for each datapoint by choosing the most probable class\n",
    "        predictions = np.argmax(posterior, axis = 1)\n",
    "        \n",
    "        return predictions"
   ]
  },
  {
   "cell_type": "markdown",
   "metadata": {},
   "source": [
    "### Example: Classifying Irises"
   ]
  },
  {
   "cell_type": "code",
   "execution_count": 11,
   "metadata": {},
   "outputs": [
    {
     "name": "stdout",
     "output_type": "stream",
     "text": [
      "Training for class 0\n",
      "Training for class 1\n",
      "Training for class 2\n",
      "\n",
      "Predicted class labels:\n",
      " [1 0 2 2 2 2 1 0 2 0 2 1 1 2 2 1 0 0 2 1 1 2 0 1 0 0 1 2 1 0 0 1 0 1 0 0 1 1]\n",
      "\n",
      "True class labels:\n",
      " [1 0 2 2 2 2 1 0 2 0 2 1 1 2 2 1 0 0 2 1 1 2 0 1 0 0 1 2 1 0 0 1 0 1 0 0 1 1]\n",
      "\n",
      "Classification Report:\n",
      "\n",
      "               precision    recall  f1-score   support\n",
      "\n",
      "           0       1.00      1.00      1.00        13\n",
      "           1       1.00      1.00      1.00        14\n",
      "           2       1.00      1.00      1.00        11\n",
      "\n",
      "    accuracy                           1.00        38\n",
      "   macro avg       1.00      1.00      1.00        38\n",
      "weighted avg       1.00      1.00      1.00        38\n",
      "\n",
      "\n",
      "Confusion Matrix:\n",
      "\n"
     ]
    },
    {
     "data": {
      "text/plain": [
       "<AxesSubplot:>"
      ]
     },
     "execution_count": 11,
     "metadata": {},
     "output_type": "execute_result"
    },
    {
     "data": {
      "image/png": "[encoded data removed]",
      "text/plain": [
       "<Figure size 432x288 with 2 Axes>"
      ]
     },
     "metadata": {
      "needs_background": "light"
     },
     "output_type": "display_data"
    }
   ],
   "source": [
    "iris = datasets.load_iris()\n",
    "\n",
    "#print(iris.target_names)\n",
    "\n",
    "# find the data and labels\n",
    "X = iris.data\n",
    "Y = iris.target\n",
    "\n",
    "# split the data into train and test sets\n",
    "trainX, testX, trainY, testY = train_test_split(X, Y, test_size = 0.25)\n",
    "\n",
    "# build the Bayes classifier\n",
    "model = BayesClassifier()\n",
    "\n",
    "# fit the Bayes classifier to the training data\n",
    "model.fit(trainX, trainY)\n",
    "\n",
    "# predict the labels of the test set\n",
    "predictedY = model.predict(testX)\n",
    "\n",
    "# print predicted and true class labels\n",
    "print('\\nPredicted class labels:\\n', predictedY)\n",
    "print('\\nTrue class labels:\\n', testY)\n",
    "\n",
    "# print quality metrics\n",
    "print('\\nClassification Report:\\n\\n', classification_report(testY, predictedY))\n",
    "print('\\nConfusion Matrix:\\n')\n",
    "\n",
    "sn.heatmap(confusion_matrix(testY, predictedY), annot = True)"
   ]
  },
  {
   "cell_type": "markdown",
   "metadata": {},
   "source": [
    "### Example: Detecting Breast Cancer"
   ]
  },
  {
   "cell_type": "code",
   "execution_count": 12,
   "metadata": {},
   "outputs": [
    {
     "name": "stdout",
     "output_type": "stream",
     "text": [
      "Training for class 0\n",
      "Training for class 1\n",
      "\n",
      "Classification Report:\n",
      "\n",
      "               precision    recall  f1-score   support\n",
      "\n",
      "           0       0.96      0.86      0.91        51\n",
      "           1       0.93      0.98      0.95        92\n",
      "\n",
      "    accuracy                           0.94       143\n",
      "   macro avg       0.94      0.92      0.93       143\n",
      "weighted avg       0.94      0.94      0.94       143\n",
      "\n",
      "\n",
      "Confusion Matrix:\n",
      "\n"
     ]
    },
    {
     "data": {
      "text/plain": [
       "<AxesSubplot:>"
      ]
     },
     "execution_count": 12,
     "metadata": {},
     "output_type": "execute_result"
    },
    {
     "data": {
      "image/png": "[encoded data removed]",
      "text/plain": [
       "<Figure size 432x288 with 2 Axes>"
      ]
     },
     "metadata": {
      "needs_background": "light"
     },
     "output_type": "display_data"
    }
   ],
   "source": [
    "breastcancer = datasets.load_breast_cancer()\n",
    "\n",
    "#print(iris.target_names)\n",
    "\n",
    "# find the data and labels\n",
    "X = breastcancer.data\n",
    "Y = breastcancer.target\n",
    "\n",
    "# split the data into train and test sets\n",
    "trainX, testX, trainY, testY = train_test_split(X, Y, test_size = 0.25)\n",
    "\n",
    "# build the Bayes classifier\n",
    "model = BayesClassifier()\n",
    "\n",
    "# fit the Bayes classifier to the training data\n",
    "model.fit(trainX, trainY)\n",
    "\n",
    "# predict the labels of the test set\n",
    "predictedY = model.predict(testX)\n",
    "\n",
    "# print quality metrics\n",
    "print('\\nClassification Report:\\n\\n', classification_report(testY, predictedY))\n",
    "print('\\nConfusion Matrix:\\n')\n",
    "\n",
    "sn.heatmap(confusion_matrix(testY, predictedY), annot = True)"
   ]
  },
  {
   "cell_type": "markdown",
   "metadata": {},
   "source": [
    "## Example: Handwritten Digits\n",
    "\n",
    "The Modified National Institute of Standards and Technology (MNIST) database contains 70,000 grayscale labeled images (each 28-by-28 pixels) of handwritten digits from US Census Bureau employees and high school students. Classifying the MNIST database is a common benchmark for machine learning techniques.\n",
    "\n",
    "<img src='images/mnist.png' />\n",
    "\n",
    "MNIST along with many other commonly-used datasets are available in the <a href=\"https://www.tensorflow.org/api_docs/python/tf/keras/datasets\">tensorflow.keras.datasets</a> module. The first time you use the load_data() function, it will download the dataset, but any subsequent runs will just read it from the hard drive, if it has been downloaded before, so it runs much faster."
   ]
  },
  {
   "cell_type": "code",
   "execution_count": 13,
   "metadata": {},
   "outputs": [],
   "source": [
    "# load the MNIST data\n",
    "from tensorflow.keras.datasets import mnist\n",
    "mnistData = mnist.load_data()"
   ]
  },
  {
   "cell_type": "markdown",
   "metadata": {},
   "source": [
    "Let's take a look at the data (press 'q' to iterate to the next image)."
   ]
  },
  {
   "cell_type": "code",
   "execution_count": 14,
   "metadata": {},
   "outputs": [
    {
     "name": "stdout",
     "output_type": "stream",
     "text": [
      "The label is 4\n",
      "[[  0   0   0   0   0   0   0   0   0   0   0   0   0   0   0   0   0   0   0   0   0   0   0   0   0   0   0   0]\n",
      " [  0   0   0   0   0   0   0   0   0   0   0   0   0   0   0   0   0   0   0   0   0   0   0   0   0   0   0   0]\n",
      " [  0   0   0   0   0   0   0   0   0   0   0   0   0   0   0   0   0   0   0   0   0   0   0   0   0   0   0   0]\n",
      " [  0   0   0   0   0   0   0   0   0   0   0   0   0   0   0   0   0   0   0   0   0   0   0   0   0   0   0   0]\n",
      " [  0   0   0   0   0   0   0   0   0   0   0   0   0   0   0   0   0   0   0   0   0   0 189 190   0   0   0   0]\n",
      " [  0   0   0   0   0   0   0   0   0   0   0   0   0   0   0   0   0   0   0   0   0 143 247 153   0   0   0   0]\n",
      " [  0   0   0   0   0   0   0   0   0   0   0   0   0   0   0   0   0   0   0   0 136 247 242  86   0   0   0   0]\n",
      " [  0   0   0   0   0   0   0   0   0   0   0   0   0   0   0   0   0   0   0   0 192 252 187   0   0   0   0   0]\n",
      " [  0   0   0   0   0   0   0   0   0   0   0   0  62 185  18   0   0   0   0  89 236 217  47   0   0   0   0   0]\n",
      " [  0   0   0   0   0   0   0   0   0   0   0   0 216 253  60   0   0   0   0 212 255  81   0   0   0   0   0   0]\n",
      " [  0   0   0   0   0   0   0   0   0   0   0   0 206 252  68   0   0   0  48 242 253  89   0   0   0   0   0   0]\n",
      " [  0   0   0   0   0   0   0   0   0   0   0 131 251 212  21   0   0  11 167 252 197   5   0   0   0   0   0   0]\n",
      " [  0   0   0   0   0   0   0   0   0   0  29 232 247  63   0   0   0 153 252 226   0   0   0   0   0   0   0   0]\n",
      " [  0   0   0   0   0   0   0   0   0  45 219 252 143   0   0   0 116 249 252 103   0   0   0   0   0   0   0   0]\n",
      " [  0   0   0   0   0   0   0   4  96 253 255 253 200 122   7  25 201 250 158   0   0   0   0   0   0   0   0   0]\n",
      " [  0   0   0   0   0   0   0  92 252 252 253 217 252 252 200 227 252 231   0   0   0   0   0   0   0   0   0   0]\n",
      " [  0   0   0   0   0   0  87 251 247 231  65  48 189 252 252 253 252 251 227  35   0   0   0   0   0   0   0   0]\n",
      " [  0   0   0   0   0   0 190 221  98   0   0   0  42 196 252 253 252 252 162   0   0   0   0   0   0   0   0   0]\n",
      " [  0   0   0   0   0   0 111  29   0   0   0   0  62 239 252  86  42  42  14   0   0   0   0   0   0   0   0   0]\n",
      " [  0   0   0   0   0   0   0   0   0   0   0  15 148 253 218   0   0   0   0   0   0   0   0   0   0   0   0   0]\n",
      " [  0   0   0   0   0   0   0   0   0   0   0 121 252 231  28   0   0   0   0   0   0   0   0   0   0   0   0   0]\n",
      " [  0   0   0   0   0   0   0   0   0   0  31 221 251 129   0   0   0   0   0   0   0   0   0   0   0   0   0   0]\n",
      " [  0   0   0   0   0   0   0   0   0   0 218 252 160   0   0   0   0   0   0   0   0   0   0   0   0   0   0   0]\n",
      " [  0   0   0   0   0   0   0   0   0   0 122 252  82   0   0   0   0   0   0   0   0   0   0   0   0   0   0   0]\n",
      " [  0   0   0   0   0   0   0   0   0   0   0   0   0   0   0   0   0   0   0   0   0   0   0   0   0   0   0   0]\n",
      " [  0   0   0   0   0   0   0   0   0   0   0   0   0   0   0   0   0   0   0   0   0   0   0   0   0   0   0   0]\n",
      " [  0   0   0   0   0   0   0   0   0   0   0   0   0   0   0   0   0   0   0   0   0   0   0   0   0   0   0   0]\n",
      " [  0   0   0   0   0   0   0   0   0   0   0   0   0   0   0   0   0   0   0   0   0   0   0   0   0   0   0   0]]\n"
     ]
    },
    {
     "data": {
      "image/png": "[encoded data removed]",
      "text/plain": [
       "<Figure size 432x288 with 1 Axes>"
      ]
     },
     "metadata": {
      "needs_background": "light"
     },
     "output_type": "display_data"
    }
   ],
   "source": [
    "# DISPLAY MNIST PICTURES, DATA ARRAYS, AND LABELS\n",
    "from IPython.display import clear_output\n",
    "from keyboard import wait\n",
    "\n",
    "for counter in range(10):\n",
    "    # loop over the picture data\n",
    "    pictureData = mnistData[0][0][counter]\n",
    "\n",
    "    # plot the datapoints and their labels\n",
    "    print('The label is', mnistData[0][1][counter])\n",
    "    print(pictureData)\n",
    "\n",
    "    # plot the image\n",
    "    plt.imshow(pictureData, cmap='Greys')\n",
    "    plt.show()\n",
    "    \n",
    "    # wait until user presses 'q'\n",
    "    wait('q')\n",
    "    \n",
    "    # clear the input\n",
    "    clear_output(wait=True)"
   ]
  },
  {
   "cell_type": "code",
   "execution_count": 15,
   "metadata": {},
   "outputs": [
    {
     "data": {
      "text/plain": [
       "(28, 28)"
      ]
     },
     "execution_count": 15,
     "metadata": {},
     "output_type": "execute_result"
    }
   ],
   "source": [
    "# Let's check the shape of the pictureData\n",
    "pictureData.shape"
   ]
  },
  {
   "cell_type": "markdown",
   "metadata": {},
   "source": [
    "Let's now see if we can train the Bayes classifier to classify the digits."
   ]
  },
  {
   "cell_type": "code",
   "execution_count": 161,
   "metadata": {},
   "outputs": [
    {
     "name": "stdout",
     "output_type": "stream",
     "text": [
      "Training for class 0\n",
      "Training for class 1\n",
      "Training for class 2\n",
      "Training for class 3\n",
      "Training for class 4\n",
      "Training for class 5\n",
      "Training for class 6\n",
      "Training for class 7\n",
      "Training for class 8\n",
      "Training for class 9\n",
      "\n",
      "Classification Report:\n",
      "\n",
      "               precision    recall  f1-score   support\n",
      "\n",
      "           0       0.90      0.94      0.92        85\n",
      "           1       0.96      0.95      0.96       126\n",
      "           2       0.46      0.93      0.62       116\n",
      "           3       0.42      0.48      0.45       107\n",
      "           4       0.56      0.81      0.66       110\n",
      "           5       0.85      0.52      0.64        87\n",
      "           6       0.97      0.70      0.81        87\n",
      "           7       0.67      0.72      0.69        99\n",
      "           8       0.77      0.34      0.47        89\n",
      "           9       0.91      0.11      0.19        94\n",
      "\n",
      "    accuracy                           0.67      1000\n",
      "   macro avg       0.75      0.65      0.64      1000\n",
      "weighted avg       0.74      0.67      0.65      1000\n",
      "\n",
      "\n",
      "Confusion Matrix:\n",
      "\n"
     ]
    },
    {
     "data": {
      "text/plain": [
       "<AxesSubplot:>"
      ]
     },
     "execution_count": 161,
     "metadata": {},
     "output_type": "execute_result"
    },
    {
     "data": {
      "image/png": "[encoded data removed]",
      "text/plain": [
       "<Figure size 432x288 with 2 Axes>"
      ]
     },
     "metadata": {
      "needs_background": "light"
     },
     "output_type": "display_data"
    }
   ],
   "source": [
    "(trainX, trainY), (testX, testY) = mnist.load_data()\n",
    "\n",
    "trainX = trainX.reshape(trainX.shape[0], trainX.shape[1] * trainX.shape[2]).astype('float')/255.0\n",
    "testX = testX.reshape(testX.shape[0], testX.shape[1] * testX.shape[2]).astype('float')/255.0\n",
    "\n",
    "testX = testX[:10]\n",
    "testY = testY[:10]\n",
    "\n",
    "# build the Bayes classifier\n",
    "model = BayesClassifier()\n",
    "\n",
    "# fit the Bayes classifier to the training data\n",
    "model.fit(trainX, trainY)\n",
    "\n",
    "# predict the labels of the test set\n",
    "predictedY = model.predict(testX)\n",
    "\n",
    "# print quality metrics\n",
    "print('\\nClassification Report:\\n\\n', classification_report(testY, predictedY))\n",
    "print('\\nConfusion Matrix:\\n')\n",
    "\n",
    "sn.heatmap(confusion_matrix(testY, predictedY), annot = True)"
   ]
  },
  {
   "cell_type": "markdown",
   "metadata": {},
   "source": [
    "### The Naive Bayes Classifier"
   ]
  },
  {
   "cell_type": "code",
   "execution_count": 157,
   "metadata": {
    "jupyter": {
     "source_hidden": true
    }
   },
   "outputs": [],
   "source": [
    "class NaiveBayesClassifier:\n",
    "    def fit(self, X, Y):     \n",
    "        # find the unique labels\n",
    "        uniqueY = np.unique(Y)\n",
    "        \n",
    "        # find the dimensions\n",
    "        n = X.shape[0]\n",
    "        self.d = X.shape[1]\n",
    "        self.k = uniqueY.shape[0]\n",
    "        \n",
    "        # initialize the outputs\n",
    "        self.prior = np.zeros([self.k, 1])\n",
    "        self.mu = np.zeros([self.k, self.d])\n",
    "        self.Sigma = np.zeros([self.k, self.d])\n",
    "        \n",
    "        # compute class prior probabilities, sample means, and sample covariances\n",
    "        for i, y in enumerate(uniqueY):\n",
    "            print('Training for class', y)\n",
    "            # split the X into its classes\n",
    "            Xi = X[Y == y]\n",
    "            \n",
    "            # compute the size of each class\n",
    "            ni = Xi.shape[0]\n",
    "            \n",
    "            # compute the priors\n",
    "            self.prior[i] = ni / n\n",
    "            \n",
    "            # compute the sample mean\n",
    "            self.mu[i] = np.mean(Xi, axis = 0)\n",
    "            self.Sigma[i] = np.var(Xi, axis = 0)\n",
    "            \n",
    "    def predict(self, X):\n",
    "        n = X.shape[0]\n",
    "\n",
    "        posteriorPre = np.ones([self.k, 1])\n",
    "        \n",
    "        # compute the pdf term of the posterior probabilities\n",
    "        for j in range(self.k):\n",
    "            posteriorPre[j] = 1\n",
    "            for i in range(n):\n",
    "                posteriorPre[j] *= scipy.stats.norm.pdf(X[i], self.mu[j], self.Sigma[j])\n",
    "                \n",
    "        # compute a vector proportional to the posterior probabilities\n",
    "        posterior = posteriorPre * self.prior.T\n",
    "        \n",
    "        # find the label for each datapoint by choosing the most probable class\n",
    "        predictions = np.argmax(posterior, axis = 1)\n",
    "        \n",
    "        return predictions"
   ]
  },
  {
   "cell_type": "code",
   "execution_count": 24,
   "metadata": {},
   "outputs": [],
   "source": [
    "# importing the scikit-learn implementation of the naive Bayes classifier\n",
    "from sklearn.naive_bayes import GaussianNB"
   ]
  },
  {
   "cell_type": "markdown",
   "metadata": {},
   "source": [
    "### Breast Cancer Example"
   ]
  },
  {
   "cell_type": "code",
   "execution_count": 17,
   "metadata": {},
   "outputs": [
    {
     "name": "stdout",
     "output_type": "stream",
     "text": [
      "\n",
      "Classification Report:\n",
      "\n",
      "               precision    recall  f1-score   support\n",
      "\n",
      "           0       0.90      0.92      0.91        62\n",
      "           1       0.94      0.93      0.93        81\n",
      "\n",
      "    accuracy                           0.92       143\n",
      "   macro avg       0.92      0.92      0.92       143\n",
      "weighted avg       0.92      0.92      0.92       143\n",
      "\n",
      "\n",
      "Confusion Matrix:\n",
      "\n"
     ]
    },
    {
     "data": {
      "text/plain": [
       "<AxesSubplot:>"
      ]
     },
     "execution_count": 17,
     "metadata": {},
     "output_type": "execute_result"
    },
    {
     "data": {
      "image/png": "[encoded data removed]",
      "text/plain": [
       "<Figure size 432x288 with 2 Axes>"
      ]
     },
     "metadata": {
      "needs_background": "light"
     },
     "output_type": "display_data"
    }
   ],
   "source": [
    "breastcancer = datasets.load_breast_cancer()\n",
    "\n",
    "# find the data and labels\n",
    "X = breastcancer.data\n",
    "Y = breastcancer.target\n",
    "\n",
    "# split the data into train and test sets\n",
    "trainX, testX, trainY, testY = train_test_split(X, Y, test_size = 0.25)\n",
    "\n",
    "# build the Bayes classifier\n",
    "model = GaussianNB()\n",
    "\n",
    "# fit the Bayes classifier to the training data\n",
    "model.fit(trainX, trainY)\n",
    "\n",
    "# predict the labels of the test set\n",
    "predictedY = model.predict(testX)\n",
    "\n",
    "# print quality metrics\n",
    "print('\\nClassification Report:\\n\\n', classification_report(testY, predictedY))\n",
    "print('\\nConfusion Matrix:\\n')\n",
    "\n",
    "sn.heatmap(confusion_matrix(testY, predictedY), annot = True)"
   ]
  },
  {
   "cell_type": "markdown",
   "metadata": {},
   "source": [
    "### Classifying MNIST Handwritten Digits with Naive Bayes"
   ]
  },
  {
   "cell_type": "code",
   "execution_count": 29,
   "metadata": {},
   "outputs": [
    {
     "name": "stdout",
     "output_type": "stream",
     "text": [
      "\n",
      "Classification Report:\n",
      "\n",
      "               precision    recall  f1-score   support\n",
      "\n",
      "           0       0.79      0.89      0.84       980\n",
      "           1       0.85      0.95      0.90      1135\n",
      "           2       0.90      0.26      0.40      1032\n",
      "           3       0.71      0.35      0.47      1010\n",
      "           4       0.88      0.17      0.29       982\n",
      "           5       0.55      0.05      0.09       892\n",
      "           6       0.65      0.93      0.77       958\n",
      "           7       0.88      0.27      0.42      1028\n",
      "           8       0.28      0.67      0.40       974\n",
      "           9       0.37      0.95      0.53      1009\n",
      "\n",
      "    accuracy                           0.56     10000\n",
      "   macro avg       0.69      0.55      0.51     10000\n",
      "weighted avg       0.69      0.56      0.52     10000\n",
      "\n",
      "\n",
      "Confusion Matrix:\n",
      "\n"
     ]
    },
    {
     "data": {
      "text/plain": [
       "<AxesSubplot:>"
      ]
     },
     "execution_count": 29,
     "metadata": {},
     "output_type": "execute_result"
    },
    {
     "data": {
      "image/png": "[encoded data removed]",
      "text/plain": [
       "<Figure size 432x288 with 2 Axes>"
      ]
     },
     "metadata": {
      "needs_background": "light"
     },
     "output_type": "display_data"
    }
   ],
   "source": [
    "(trainX, trainY), (testX, testY) = mnist.load_data()\n",
    "\n",
    "trainX = trainX.reshape(trainX.shape[0], trainX.shape[1] * trainX.shape[2]).astype('float')/255.0\n",
    "testX = testX.reshape(testX.shape[0], testX.shape[1] * testX.shape[2]).astype('float')/255.0\n",
    "\n",
    "#trainNoise = np.random.uniform(-0.1, 0.1, size = trainX.shape)\n",
    "#trainX += trainNoise\n",
    "\n",
    "# build the Bayes classifier\n",
    "model = GaussianNB()\n",
    "\n",
    "# fit the Bayes classifier to the training data\n",
    "model.fit(trainX, trainY)\n",
    "\n",
    "# predict the labels of the test set\n",
    "predictedY = model.predict(testX)\n",
    "\n",
    "# print quality metrics\n",
    "print('\\nClassification Report:\\n\\n', classification_report(testY, predictedY))\n",
    "print('\\nConfusion Matrix:\\n')\n",
    "\n",
    "sn.heatmap(confusion_matrix(testY, predictedY))"
   ]
  },
  {
   "cell_type": "code",
   "execution_count": null,
   "metadata": {},
   "outputs": [],
   "source": []
  }
 ],
 "metadata": {
  "kernelspec": {
   "display_name": "Python 3.8 (DL)",
   "language": "python",
   "name": "dl"
  },
  "language_info": {
   "codemirror_mode": {
    "name": "ipython",
    "version": 3
   },
   "file_extension": ".py",
   "mimetype": "text/x-python",
   "name": "python",
   "nbconvert_exporter": "python",
   "pygments_lexer": "ipython3",
   "version": "3.8.5"
  }
 },
 "nbformat": 4,
 "nbformat_minor": 4
}
