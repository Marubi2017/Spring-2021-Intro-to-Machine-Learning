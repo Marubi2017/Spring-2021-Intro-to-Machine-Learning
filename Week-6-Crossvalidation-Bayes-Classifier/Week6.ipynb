{
 "cells": [
  {
   "cell_type": "markdown",
   "metadata": {},
   "source": [
    "# Week 5: K-fold Cross-validation and the Bayes Classifier\n",
    "\n",
    "## Lecture 13: K-fold Cross-validation\n",
    "\n",
    "For the `scikit-learn` implementation details, see https://scikit-learn.org/stable/modules/cross_validation.html. We will frequently use the method in the future.\n",
    "\n",
    "## Lecture 14: The Bayes Classifier"
   ]
  },
  {
   "cell_type": "code",
   "execution_count": 127,
   "metadata": {},
   "outputs": [],
   "source": [
    "import matplotlib.pyplot as plt\n",
    "import numpy as np\n",
    "import seaborn as sn\n",
    "\n",
    "from scipy.stats import multivariate_normal\n",
    "from sklearn import datasets\n",
    "from sklearn.metrics import classification_report\n",
    "from sklearn.metrics import confusion_matrix\n",
    "from sklearn.model_selection import train_test_split\n",
    "import scipy\n",
    "from tensorflow.keras.datasets import mnist"
   ]
  },
  {
   "cell_type": "code",
   "execution_count": 128,
   "metadata": {},
   "outputs": [],
   "source": [
    "class BayesClassifier:\n",
    "    def fit(self, X, Y):     \n",
    "        # find the unique labels\n",
    "        uniqueY = np.unique(Y)\n",
    "        \n",
    "        # find the dimensions\n",
    "        n = X.shape[0]\n",
    "        self.d = X.shape[1]\n",
    "        self.k = uniqueY.shape[0]\n",
    "        \n",
    "        # initialize the outputs\n",
    "        self.prior = np.zeros([self.k, 1])\n",
    "        self.mu = np.zeros([self.k, self.d])\n",
    "        self.Sigma = np.zeros([self.k, self.d, self.d])\n",
    "        \n",
    "        # compute class prior probabilities, sample means, and sample covariances\n",
    "        for i, y in enumerate(uniqueY):\n",
    "            print('Training for class', y)\n",
    "            # split the X into its classes\n",
    "            Xi = X[Y == y]\n",
    "            \n",
    "            # compute the size of each class\n",
    "            ni = Xi.shape[0]\n",
    "            \n",
    "            # compute the priors\n",
    "            self.prior[i] = ni / n\n",
    "            \n",
    "            # compute the sample mean\n",
    "            self.mu[i] = np.mean(Xi, axis = 0)\n",
    "            \n",
    "            # compute the centered data\n",
    "            XiBar = Xi - self.mu[i]\n",
    "            \n",
    "            # compute the sample covariance\n",
    "            self.Sigma[i] = (1/ni) * XiBar.T @ XiBar\n",
    "            \n",
    "    def predict(self, X):\n",
    "        n = X.shape[0]\n",
    "        \n",
    "        posteriorPre = np.zeros([n, self.k])\n",
    "        \n",
    "        # compute the pdf term of the posterior probabilities\n",
    "        for i in range(n):\n",
    "            for j in range(self.k):\n",
    "                posteriorPre[i][j] = scipy.stats.multivariate_normal.pdf(X[i], self.mu[j], self.Sigma[j], allow_singular = True)\n",
    "                \n",
    "        # compute a vector proportional to the posterior probabilities\n",
    "        posterior = posteriorPre * self.prior.T\n",
    "\n",
    "        # find the label for each datapoint by choosing the most probable class\n",
    "        predictions = np.argmax(posterior, axis = 1)\n",
    "        \n",
    "        return predictions"
   ]
  },
  {
   "cell_type": "code",
   "execution_count": 132,
   "metadata": {},
   "outputs": [
    {
     "name": "stdout",
     "output_type": "stream",
     "text": [
      "Training for class 0\n",
      "Training for class 1\n",
      "Training for class 2\n",
      "\n",
      "Predicted class labels:\n",
      " [0 0 2 1 0 0 2 1 1 0 1 0 1 1 1 1 0 1 0 2 0 2 2 1 2 0 0 2 2 0 1 0 2 1 0 2 1\n",
      " 1]\n",
      "\n",
      "True class labels:\n",
      " [0 0 2 1 0 0 2 1 1 0 1 0 1 1 1 1 0 1 0 2 0 2 2 1 1 0 0 2 2 0 1 0 2 1 0 2 2\n",
      " 1]\n",
      "\n",
      "Classification Report:\n",
      "\n",
      "               precision    recall  f1-score   support\n",
      "\n",
      "           0       1.00      1.00      1.00        14\n",
      "           1       0.93      0.93      0.93        14\n",
      "           2       0.90      0.90      0.90        10\n",
      "\n",
      "    accuracy                           0.95        38\n",
      "   macro avg       0.94      0.94      0.94        38\n",
      "weighted avg       0.95      0.95      0.95        38\n",
      "\n",
      "\n",
      "Confusion Matrix:\n",
      "\n"
     ]
    },
    {
     "data": {
      "text/plain": [
       "<AxesSubplot:>"
      ]
     },
     "execution_count": 132,
     "metadata": {},
     "output_type": "execute_result"
    },
    {
     "data": {
      "image/png": "[encoded data removed]",
      "text/plain": [
       "<Figure size 432x288 with 2 Axes>"
      ]
     },
     "metadata": {
      "needs_background": "light"
     },
     "output_type": "display_data"
    }
   ],
   "source": [
    "iris = datasets.load_iris()\n",
    "\n",
    "#print(iris.target_names)\n",
    "\n",
    "# find the data and labels\n",
    "X = iris.data\n",
    "Y = iris.target\n",
    "\n",
    "# split the data into train and test sets\n",
    "trainX, testX, trainY, testY = train_test_split(X, Y, test_size = 0.25)\n",
    "\n",
    "# build the Bayes classifier\n",
    "model = BayesClassifier()\n",
    "\n",
    "# fit the Bayes classifier to the training data\n",
    "model.fit(trainX, trainY)\n",
    "\n",
    "# predict the labels of the test set\n",
    "predictedY = model.predict(testX)\n",
    "\n",
    "# print predicted and true class labels\n",
    "print('\\nPredicted class labels:\\n', predictedY)\n",
    "print('\\nTrue class labels:\\n', testY)\n",
    "\n",
    "# print quality metrics\n",
    "print('\\nClassification Report:\\n\\n', classification_report(testY, predictedY))\n",
    "print('\\nConfusion Matrix:\\n')\n",
    "\n",
    "sn.heatmap(confusion_matrix(testY, predictedY), annot = True)"
   ]
  },
  {
   "cell_type": "code",
   "execution_count": 133,
   "metadata": {},
   "outputs": [
    {
     "name": "stdout",
     "output_type": "stream",
     "text": [
      "Training for class 0\n",
      "Training for class 1\n",
      "\n",
      "Classification Report:\n",
      "\n",
      "               precision    recall  f1-score   support\n",
      "\n",
      "           0       0.96      0.93      0.95        57\n",
      "           1       0.95      0.98      0.97        86\n",
      "\n",
      "    accuracy                           0.96       143\n",
      "   macro avg       0.96      0.95      0.96       143\n",
      "weighted avg       0.96      0.96      0.96       143\n",
      "\n",
      "\n",
      "Confusion Matrix:\n",
      "\n"
     ]
    },
    {
     "data": {
      "text/plain": [
       "<AxesSubplot:>"
      ]
     },
     "execution_count": 133,
     "metadata": {},
     "output_type": "execute_result"
    },
    {
     "data": {
      "image/png": "[encoded data removed]",
      "text/plain": [
       "<Figure size 432x288 with 2 Axes>"
      ]
     },
     "metadata": {
      "needs_background": "light"
     },
     "output_type": "display_data"
    }
   ],
   "source": [
    "breastcancer = datasets.load_breast_cancer()\n",
    "\n",
    "#print(iris.target_names)\n",
    "\n",
    "# find the data and labels\n",
    "X = breastcancer.data\n",
    "Y = breastcancer.target\n",
    "\n",
    "# split the data into train and test sets\n",
    "trainX, testX, trainY, testY = train_test_split(X, Y, test_size = 0.25)\n",
    "\n",
    "# build the Bayes classifier\n",
    "model = BayesClassifier()\n",
    "\n",
    "# fit the Bayes classifier to the training data\n",
    "model.fit(trainX, trainY)\n",
    "\n",
    "# predict the labels of the test set\n",
    "predictedY = model.predict(testX)\n",
    "\n",
    "# print quality metrics\n",
    "print('\\nClassification Report:\\n\\n', classification_report(testY, predictedY))\n",
    "print('\\nConfusion Matrix:\\n')\n",
    "\n",
    "sn.heatmap(confusion_matrix(testY, predictedY), annot = True)"
   ]
  },
  {
   "cell_type": "code",
   "execution_count": 160,
   "metadata": {},
   "outputs": [
    {
     "name": "stdout",
     "output_type": "stream",
     "text": [
      "Training for class 0\n",
      "Training for class 1\n",
      "Training for class 2\n",
      "Training for class 3\n",
      "Training for class 4\n",
      "Training for class 5\n",
      "Training for class 6\n",
      "Training for class 7\n",
      "Training for class 8\n",
      "Training for class 9\n",
      "\n",
      "Classification Report:\n",
      "\n",
      "               precision    recall  f1-score   support\n",
      "\n",
      "           0       1.00      1.00      1.00         1\n",
      "           1       1.00      1.00      1.00         2\n",
      "           2       1.00      1.00      1.00         1\n",
      "           4       1.00      1.00      1.00         2\n",
      "           5       1.00      1.00      1.00         1\n",
      "           7       0.50      1.00      0.67         1\n",
      "           9       1.00      0.50      0.67         2\n",
      "\n",
      "    accuracy                           0.90        10\n",
      "   macro avg       0.93      0.93      0.90        10\n",
      "weighted avg       0.95      0.90      0.90        10\n",
      "\n",
      "\n",
      "Confusion Matrix:\n",
      "\n"
     ]
    },
    {
     "data": {
      "text/plain": [
       "<AxesSubplot:>"
      ]
     },
     "execution_count": 160,
     "metadata": {},
     "output_type": "execute_result"
    },
    {
     "data": {
      "image/png": "[encoded data removed]",
      "text/plain": [
       "<Figure size 432x288 with 2 Axes>"
      ]
     },
     "metadata": {
      "needs_background": "light"
     },
     "output_type": "display_data"
    }
   ],
   "source": [
    "(trainX, trainY), (testX, testY) = mnist.load_data()\n",
    "\n",
    "trainX = trainX.reshape(trainX.shape[0], trainX.shape[1] * trainX.shape[2]).astype('float')/255.0\n",
    "testX = testX.reshape(testX.shape[0], testX.shape[1] * testX.shape[2]).astype('float')/255.0\n",
    "\n",
    "testX = testX[:100]\n",
    "testY = testY[:100]\n",
    "\n",
    "# build the Bayes classifier\n",
    "model = BayesClassifier()\n",
    "\n",
    "# fit the Bayes classifier to the training data\n",
    "model.fit(trainX, trainY)\n",
    "\n",
    "# predict the labels of the test set\n",
    "predictedY = model.predict(testX)\n",
    "\n",
    "# print quality metrics\n",
    "print('\\nClassification Report:\\n\\n', classification_report(testY, predictedY))\n",
    "print('\\nConfusion Matrix:\\n')\n",
    "\n",
    "sn.heatmap(confusion_matrix(testY, predictedY), annot = True)"
   ]
  },
  {
   "cell_type": "code",
   "execution_count": 157,
   "metadata": {},
   "outputs": [],
   "source": [
    "class NaiveBayesClassifier:\n",
    "    def fit(self, X, Y):     \n",
    "        # find the unique labels\n",
    "        uniqueY = np.unique(Y)\n",
    "        \n",
    "        # find the dimensions\n",
    "        n = X.shape[0]\n",
    "        self.d = X.shape[1]\n",
    "        self.k = uniqueY.shape[0]\n",
    "        \n",
    "        # initialize the outputs\n",
    "        self.prior = np.zeros([self.k, 1])\n",
    "        self.mu = np.zeros([self.k, self.d])\n",
    "        self.Sigma = np.zeros([self.k, self.d])\n",
    "        \n",
    "        # compute class prior probabilities, sample means, and sample covariances\n",
    "        for i, y in enumerate(uniqueY):\n",
    "            print('Training for class', y)\n",
    "            # split the X into its classes\n",
    "            Xi = X[Y == y]\n",
    "            \n",
    "            # compute the size of each class\n",
    "            ni = Xi.shape[0]\n",
    "            \n",
    "            # compute the priors\n",
    "            self.prior[i] = ni / n\n",
    "            \n",
    "            # compute the sample mean\n",
    "            self.mu[i] = np.mean(Xi, axis = 0)\n",
    "            self.Sigma[i] = np.var(Xi, axis = 0)\n",
    "            \n",
    "    def predict(self, X):\n",
    "        n = X.shape[0]\n",
    "\n",
    "        posteriorPre = np.ones([self.k, 1])\n",
    "        \n",
    "        # compute the pdf term of the posterior probabilities\n",
    "        for j in range(self.k):\n",
    "            posteriorPre[j] = 1\n",
    "            for i in range(n):\n",
    "                posteriorPre[j] *= scipy.stats.norm.pdf(X[i], self.mu[j], self.Sigma[j])\n",
    "                \n",
    "        # compute a vector proportional to the posterior probabilities\n",
    "        posterior = posteriorPre * self.prior.T\n",
    "        \n",
    "        # find the label for each datapoint by choosing the most probable class\n",
    "        predictions = np.argmax(posterior, axis = 1)\n",
    "        \n",
    "        return predictions"
   ]
  },
  {
   "cell_type": "code",
   "execution_count": 158,
   "metadata": {},
   "outputs": [
    {
     "name": "stdout",
     "output_type": "stream",
     "text": [
      "Training for class 0\n",
      "Training for class 1\n",
      "[1.613e+01 2.068e+01 1.081e+02 7.988e+02 1.170e-01 2.022e-01 1.722e-01\n",
      " 1.028e-01 2.164e-01 7.356e-02 5.692e-01 1.073e+00 3.854e+00 5.418e+01\n",
      " 7.026e-03 2.501e-02 3.188e-02 1.297e-02 1.689e-02 4.142e-03 2.096e+01\n",
      " 3.148e+01 1.368e+02 1.315e+03 1.789e-01 4.233e-01 4.784e-01 2.073e-01\n",
      " 3.706e-01 1.142e-01]\n",
      "[1.73747059e+01 2.15661438e+01 1.14763072e+02 9.69358824e+02\n",
      " 1.02855621e-01 1.45152288e-01 1.60533007e-01 8.74802614e-02\n",
      " 1.93512418e-01 6.28535294e-02 6.05702614e-01 1.22615948e+00\n",
      " 4.31384967e+00 7.28902614e+01 6.71569935e-03 3.22574052e-02\n",
      " 4.16781046e-02 1.49917843e-02 2.03296013e-02 4.04809150e-03\n",
      " 2.10754902e+01 2.94205229e+01 1.40953922e+02 1.41707124e+03\n",
      " 1.44880980e-01 3.82138627e-01 4.56537778e-01 1.83132157e-01\n",
      " 3.28162092e-01 9.22542484e-02]\n",
      "[1.03264968e+01 1.33851740e+01 4.80057172e+02 1.36985334e+05\n",
      " 1.61036005e-04 2.87445094e-03 5.52068521e-03 1.16137957e-03\n",
      " 7.23100042e-04 6.12110921e-05 1.32947484e-01 2.66150631e-01\n",
      " 7.58615511e+00 4.57769626e+03 9.67160464e-06 3.31321379e-04\n",
      " 4.71969596e-04 3.22943203e-05 9.05578737e-05 4.66931729e-06\n",
      " 1.86659908e+01 2.84669069e+01 8.90388553e+02 3.72061320e+05\n",
      " 5.00090117e-04 3.10828186e-02 3.19426937e-02 2.10849473e-03\n",
      " 6.11967843e-03 5.30651298e-04]\n"
     ]
    },
    {
     "ename": "ValueError",
     "evalue": "setting an array element with a sequence.",
     "output_type": "error",
     "traceback": [
      "\u001b[1;31m---------------------------------------------------------------------------\u001b[0m",
      "\u001b[1;31mTypeError\u001b[0m                                 Traceback (most recent call last)",
      "\u001b[1;31mTypeError\u001b[0m: only size-1 arrays can be converted to Python scalars",
      "\nThe above exception was the direct cause of the following exception:\n",
      "\u001b[1;31mValueError\u001b[0m                                Traceback (most recent call last)",
      "\u001b[1;32m<ipython-input-158-cf8edd8506c7>\u001b[0m in \u001b[0;36m<module>\u001b[1;34m\u001b[0m\n\u001b[0;32m     17\u001b[0m \u001b[1;33m\u001b[0m\u001b[0m\n\u001b[0;32m     18\u001b[0m \u001b[1;31m# predict the labels of the test set\u001b[0m\u001b[1;33m\u001b[0m\u001b[1;33m\u001b[0m\u001b[1;33m\u001b[0m\u001b[0m\n\u001b[1;32m---> 19\u001b[1;33m \u001b[0mpredictedY\u001b[0m \u001b[1;33m=\u001b[0m \u001b[0mmodel\u001b[0m\u001b[1;33m.\u001b[0m\u001b[0mpredict\u001b[0m\u001b[1;33m(\u001b[0m\u001b[0mtestX\u001b[0m\u001b[1;33m)\u001b[0m\u001b[1;33m\u001b[0m\u001b[1;33m\u001b[0m\u001b[0m\n\u001b[0m\u001b[0;32m     20\u001b[0m \u001b[1;33m\u001b[0m\u001b[0m\n\u001b[0;32m     21\u001b[0m \u001b[1;31m# print quality metrics\u001b[0m\u001b[1;33m\u001b[0m\u001b[1;33m\u001b[0m\u001b[1;33m\u001b[0m\u001b[0m\n",
      "\u001b[1;32m<ipython-input-157-8fc3fafbdddf>\u001b[0m in \u001b[0;36mpredict\u001b[1;34m(self, X)\u001b[0m\n\u001b[0;32m     41\u001b[0m                 \u001b[0mprint\u001b[0m\u001b[1;33m(\u001b[0m\u001b[0mself\u001b[0m\u001b[1;33m.\u001b[0m\u001b[0mmu\u001b[0m\u001b[1;33m[\u001b[0m\u001b[0mj\u001b[0m\u001b[1;33m]\u001b[0m\u001b[1;33m)\u001b[0m\u001b[1;33m\u001b[0m\u001b[1;33m\u001b[0m\u001b[0m\n\u001b[0;32m     42\u001b[0m                 \u001b[0mprint\u001b[0m\u001b[1;33m(\u001b[0m\u001b[0mself\u001b[0m\u001b[1;33m.\u001b[0m\u001b[0mSigma\u001b[0m\u001b[1;33m[\u001b[0m\u001b[0mj\u001b[0m\u001b[1;33m]\u001b[0m\u001b[1;33m)\u001b[0m\u001b[1;33m\u001b[0m\u001b[1;33m\u001b[0m\u001b[0m\n\u001b[1;32m---> 43\u001b[1;33m                 \u001b[0mposteriorPre\u001b[0m\u001b[1;33m[\u001b[0m\u001b[0mi\u001b[0m\u001b[1;33m]\u001b[0m\u001b[1;33m[\u001b[0m\u001b[0mj\u001b[0m\u001b[1;33m]\u001b[0m \u001b[1;33m*=\u001b[0m \u001b[0mscipy\u001b[0m\u001b[1;33m.\u001b[0m\u001b[0mstats\u001b[0m\u001b[1;33m.\u001b[0m\u001b[0mnorm\u001b[0m\u001b[1;33m.\u001b[0m\u001b[0mpdf\u001b[0m\u001b[1;33m(\u001b[0m\u001b[0mX\u001b[0m\u001b[1;33m[\u001b[0m\u001b[0mi\u001b[0m\u001b[1;33m]\u001b[0m\u001b[1;33m,\u001b[0m \u001b[0mself\u001b[0m\u001b[1;33m.\u001b[0m\u001b[0mmu\u001b[0m\u001b[1;33m[\u001b[0m\u001b[0mj\u001b[0m\u001b[1;33m]\u001b[0m\u001b[1;33m,\u001b[0m \u001b[0mself\u001b[0m\u001b[1;33m.\u001b[0m\u001b[0mSigma\u001b[0m\u001b[1;33m[\u001b[0m\u001b[0mj\u001b[0m\u001b[1;33m]\u001b[0m\u001b[1;33m)\u001b[0m\u001b[1;33m\u001b[0m\u001b[1;33m\u001b[0m\u001b[0m\n\u001b[0m\u001b[0;32m     44\u001b[0m \u001b[1;33m\u001b[0m\u001b[0m\n\u001b[0;32m     45\u001b[0m         \u001b[1;31m# compute a vector proportional to the posterior probabilities\u001b[0m\u001b[1;33m\u001b[0m\u001b[1;33m\u001b[0m\u001b[1;33m\u001b[0m\u001b[0m\n",
      "\u001b[1;31mValueError\u001b[0m: setting an array element with a sequence."
     ]
    }
   ],
   "source": [
    "breastcancer = datasets.load_breast_cancer()\n",
    "\n",
    "#print(iris.target_names)\n",
    "\n",
    "# find the data and labels\n",
    "X = breastcancer.data\n",
    "Y = breastcancer.target\n",
    "\n",
    "# split the data into train and test sets\n",
    "trainX, testX, trainY, testY = train_test_split(X, Y, test_size = 0.25)\n",
    "\n",
    "# build the Bayes classifier\n",
    "model = NaiveBayesClassifier()\n",
    "\n",
    "# fit the Bayes classifier to the training data\n",
    "model.fit(trainX, trainY)\n",
    "\n",
    "# predict the labels of the test set\n",
    "predictedY = model.predict(testX)\n",
    "\n",
    "# print quality metrics\n",
    "print('\\nClassification Report:\\n\\n', classification_report(testY, predictedY))\n",
    "print('\\nConfusion Matrix:\\n')\n",
    "\n",
    "sn.heatmap(confusion_matrix(testY, predictedY), annot = True)"
   ]
  },
  {
   "cell_type": "code",
   "execution_count": 145,
   "metadata": {},
   "outputs": [
    {
     "name": "stdout",
     "output_type": "stream",
     "text": [
      "Training for class 0\n",
      "Training for class 1\n",
      "Training for class 2\n",
      "Training for class 3\n",
      "Training for class 4\n",
      "Training for class 5\n",
      "Training for class 6\n",
      "Training for class 7\n",
      "Training for class 8\n",
      "Training for class 9\n",
      "              precision    recall  f1-score   support\n",
      "\n",
      "           0       0.25      1.00      0.40         1\n",
      "           1       0.00      0.00      0.00         2\n",
      "           2       1.00      1.00      1.00         1\n",
      "           3       0.00      0.00      0.00         0\n",
      "           4       0.00      0.00      0.00         2\n",
      "           5       0.00      0.00      0.00         1\n",
      "           7       0.50      1.00      0.67         1\n",
      "           9       0.00      0.00      0.00         2\n",
      "\n",
      "    accuracy                           0.30        10\n",
      "   macro avg       0.22      0.38      0.26        10\n",
      "weighted avg       0.17      0.30      0.21        10\n",
      "\n"
     ]
    },
    {
     "name": "stderr",
     "output_type": "stream",
     "text": [
      "G:\\Miniconda3\\envs\\DL\\lib\\site-packages\\sklearn\\metrics\\_classification.py:1221: UndefinedMetricWarning: Recall and F-score are ill-defined and being set to 0.0 in labels with no true samples. Use `zero_division` parameter to control this behavior.\n",
      "  _warn_prf(average, modifier, msg_start, len(result))\n"
     ]
    }
   ],
   "source": [
    "(trainX, trainY), (testX, testY) = mnist.load_data()\n",
    "\n",
    "trainX = trainX.reshape(trainX.shape[0], trainX.shape[1] * trainX.shape[2]).astype('float')/255.0\n",
    "testX = testX.reshape(testX.shape[0], testX.shape[1] * testX.shape[2]).astype('float')/255.0\n",
    "\n",
    "testX = testX[:10]\n",
    "testY = testY[:10]\n",
    "\n",
    "trainNoise = np.random.uniform(-0.1, 0.1, size = trainX.shape)\n",
    "\n",
    "trainX += trainNoise\n",
    "\n",
    "# build the Bayes classifier\n",
    "model = BayesClassifier()\n",
    "\n",
    "# fit the Bayes classifier to the training data\n",
    "model.fit(trainX, trainY)\n",
    "\n",
    "# predict the labels of the test set\n",
    "predictedY = model.predict(testX)\n",
    "\n",
    "print(classification_report(testY, predictedY))"
   ]
  },
  {
   "cell_type": "code",
   "execution_count": null,
   "metadata": {},
   "outputs": [],
   "source": []
  }
 ],
 "metadata": {
  "kernelspec": {
   "display_name": "Python 3.8 (DL)",
   "language": "python",
   "name": "dl"
  },
  "language_info": {
   "codemirror_mode": {
    "name": "ipython",
    "version": 3
   },
   "file_extension": ".py",
   "mimetype": "text/x-python",
   "name": "python",
   "nbconvert_exporter": "python",
   "pygments_lexer": "ipython3",
   "version": "3.8.5"
  }
 },
 "nbformat": 4,
 "nbformat_minor": 4
}
