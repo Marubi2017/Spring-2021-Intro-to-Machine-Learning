{
 "cells": [
  {
   "cell_type": "code",
   "execution_count": 8,
   "metadata": {},
   "outputs": [],
   "source": [
    "import numpy as np\n",
    "import matplotlib.pyplot as plt\n",
    "import pandas as pd\n",
    "from sklearn.metrics import mean_squared_error\n",
    "from sklearn.metrics import mean_absolute_error\n",
    "from sklearn.metrics import r2_score\n",
    "from sklearn.model_selection import train_test_split\n",
    "\n",
    "class OrdinaryLeastSquaresExact(): \n",
    "    \n",
    "    # find the betas that make the model fit as well as possible (OLS)\n",
    "    def fit(self, X, y, ones = True): # this function fit the model to some data\n",
    "        \n",
    "        self.ones = ones\n",
    "        # add ones if ones = True\n",
    "        if self.ones:\n",
    "            self.data = np.hstack((np.ones([X.shape[0],1]), X)) # stacks a column of ones\n",
    "        else:\n",
    "            self.data = X\n",
    "    \n",
    "        self.outputs = y\n",
    "        \n",
    "        X = self.data\n",
    "        self.beta = np.linalg.inv(X.T @ X) @ X.T @ y #this is the formula used to minimze the beta (min(L(B))) / minimize the sum of squared errors\n",
    "        \n",
    "    # compute predictions for any input dataset X    \n",
    "    def predict(self, X):\n",
    "        yPredicted = np.empty([X.shape[0], 1])\n",
    "        \n",
    "        if self.ones:\n",
    "            X = np.hstack((np.ones([X.shape[0], 1]), X))\n",
    "        \n",
    "        for row in range(X.shape[0]):\n",
    "            yPredicted[row] = self.beta @ X[row,]\n",
    "            \n",
    "        return yPredicted"
   ]
  },
  {
   "cell_type": "code",
   "execution_count": 9,
   "metadata": {},
   "outputs": [
    {
     "name": "stdout",
     "output_type": "stream",
     "text": [
      "The predicted y values are [1.2 1.9 2.6 3.3 4. ]\n",
      "The real y values are [1 2 3 3 4]\n",
      "The beta values are [-3.   0.7]\n",
      "The r^2 score is 0.9423076923076923\n",
      "The mean squared error is 0.060000000000000074\n",
      "The mean absolute error is 0.20000000000000212\n"
     ]
    },
    {
     "data": {
      "image/png": "[encoded data removed]",
      "text/plain": [
       "<Figure size 432x288 with 1 Axes>"
      ]
     },
     "metadata": {
      "needs_background": "light"
     },
     "output_type": "display_data"
    }
   ],
   "source": [
    "X = np.array([[6], [7], [8], [9], [10]])\n",
    "y = np.array([1, 2, 3, 3, 4])\n",
    "\n",
    "model = OrdinaryLeastSquaresExact()\n",
    "model.fit(X,y)\n",
    "predictions = model.predict(X)\n",
    "\n",
    "# print the predictions\n",
    "print('The predicted y values are', predictions.T[0])\n",
    "\n",
    "# print the real y values\n",
    "print('The real y values are', y)\n",
    "\n",
    "# print the beta values\n",
    "parameters = model.beta\n",
    "print('The beta values are', parameters)\n",
    "\n",
    "# plot the training points\n",
    "plt.scatter(X, y, label = 'Training Data')\n",
    "\n",
    "# plot the fitted model with the training data\n",
    "xModel = np.linspace(6,10,100)\n",
    "yModel = parameters[0] + parameters[1]*xModel\n",
    "lineFormula = 'y={:.3f}+{:.3f}x'.format(parameters[0], parameters[1])\n",
    "plt.plot(xModel, yModel, 'r', label = lineFormula)\n",
    "\n",
    "# add a legend\n",
    "plt.legend()\n",
    "\n",
    "# return quality metrics\n",
    "print('The r^2 score is', r2_score(y, predictions))\n",
    "print('The mean squared error is', mean_squared_error(y, predictions))\n",
    "print('The mean absolute error is', mean_absolute_error(y, predictions))"
   ]
  },
  {
   "cell_type": "code",
   "execution_count": 10,
   "metadata": {},
   "outputs": [],
   "source": [
    "def univariatePolynomialBasis(M):\n",
    "    def polynomialM(x):\n",
    "        out = np.array([])\n",
    "        \n",
    "        for i in range(M+1):\n",
    "            out = np.append(out, x ** i)\n",
    "            \n",
    "        return out\n",
    "    return polynomialM"
   ]
  },
  {
   "cell_type": "code",
   "execution_count": 11,
   "metadata": {},
   "outputs": [
    {
     "name": "stdout",
     "output_type": "stream",
     "text": [
      "[[ 1.  3.  9. 27.]\n",
      " [ 1.  4. 16. 64.]]\n"
     ]
    }
   ],
   "source": [
    "poly = univariatePolynomialBasis(3)\n",
    "poly(5)\n",
    "\n",
    "print(np.apply_along_axis(poly, 1, [[3], [4]]))"
   ]
  },
  {
   "cell_type": "code",
   "execution_count": 12,
   "metadata": {},
   "outputs": [
    {
     "name": "stdout",
     "output_type": "stream",
     "text": [
      "The predicted y values are [0.95714286 2.17142857 2.74285714 3.17142857 3.95714286]\n",
      "The real y values are [1 2 3 3 4]\n",
      "The beta values are [-47.82857143  17.55952381  -2.07142857   0.08333333]\n",
      "The r^2 score is 0.975274725274725\n",
      "The mean squared error is 0.025714285714285957\n",
      "The mean absolute error is 0.1371428571129684\n"
     ]
    },
    {
     "data": {
      "image/png": "[encoded data removed]",
      "text/plain": [
       "<Figure size 432x288 with 1 Axes>"
      ]
     },
     "metadata": {
      "needs_background": "light"
     },
     "output_type": "display_data"
    }
   ],
   "source": [
    "X = np.array([[6], [7], [8], [9], [10]])\n",
    "y = np.array([1, 2, 3, 3, 4])\n",
    "\n",
    "model = OrdinaryLeastSquaresExact()\n",
    "\n",
    "poly = univariatePolynomialBasis(3)\n",
    "Xh = np.apply_along_axis(poly, 1, X)\n",
    "\n",
    "model.fit(Xh,y, ones = False)\n",
    "predictions = model.predict(Xh)\n",
    "\n",
    "# print the predictions\n",
    "print('The predicted y values are', predictions.T[0])\n",
    "\n",
    "# print the real y values\n",
    "print('The real y values are', y)\n",
    "\n",
    "# print the beta values\n",
    "parameters = model.beta\n",
    "print('The beta values are', parameters)\n",
    "\n",
    "# plot the training points\n",
    "plt.scatter(X, y, label = 'Training Data')\n",
    "\n",
    "# plot the fitted model with the training data\n",
    "xModel = np.atleast_2d(np.linspace(6,10,100)).T\n",
    "yModel = np.sum(parameters * np.apply_along_axis(poly, 1, xModel), axis = 1)\n",
    "lineFormula = 'y={:.3f}+{:.3f}x'.format(parameters[0], parameters[1])\n",
    "plt.plot(xModel, yModel, 'r')\n",
    "\n",
    "# add a legend\n",
    "plt.legend()\n",
    "\n",
    "# return quality metrics\n",
    "print('The r^2 score is', r2_score(y, predictions))\n",
    "print('The mean squared error is', mean_squared_error(y, predictions))\n",
    "print('The mean absolute error is', mean_absolute_error(y, predictions))"
   ]
  },
  {
   "cell_type": "code",
   "execution_count": null,
   "metadata": {},
   "outputs": [],
   "source": []
  }
 ],
 "metadata": {
  "kernelspec": {
   "display_name": "Python 3",
   "language": "python",
   "name": "python3"
  },
  "language_info": {
   "codemirror_mode": {
    "name": "ipython",
    "version": 3
   },
   "file_extension": ".py",
   "mimetype": "text/x-python",
   "name": "python",
   "nbconvert_exporter": "python",
   "pygments_lexer": "ipython3",
   "version": "3.7.3"
  }
 },
 "nbformat": 4,
 "nbformat_minor": 2
}
