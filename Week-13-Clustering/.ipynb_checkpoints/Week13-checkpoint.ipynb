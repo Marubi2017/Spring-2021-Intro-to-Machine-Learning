{
 "cells": [
  {
   "cell_type": "markdown",
   "metadata": {},
   "source": [
    "# Week 13 - Clustering\n",
    "\n",
    "This week, we depart for a while from supervised learning and study the unsupervised problem of clustering.\n",
    "\n",
    "## Lecture 32 - Dissimilarity and $K$-Means Clustering"
   ]
  },
  {
   "cell_type": "code",
   "execution_count": 1,
   "metadata": {},
   "outputs": [],
   "source": [
    "import numpy as np"
   ]
  },
  {
   "cell_type": "code",
   "execution_count": 9,
   "metadata": {},
   "outputs": [],
   "source": [
    "def KMeans(X, K, eps):\n",
    "    n = X.shape[0]\n",
    "    d = X.shape[1]\n",
    "    \n",
    "    centroids = 20*(np.random.rand(K, d) - 0.5)"
   ]
  },
  {
   "cell_type": "markdown",
   "metadata": {},
   "source": [
    "Let's try it!"
   ]
  },
  {
   "cell_type": "code",
   "execution_count": 10,
   "metadata": {},
   "outputs": [
    {
     "name": "stdout",
     "output_type": "stream",
     "text": [
      "[[ 2.71368591 -8.47792197 -1.81350053  1.42455031  6.20948462  4.21677347\n",
      "  -1.82795833 -9.35893944]\n",
      " [-5.86398037  7.44031004  6.40637069 -3.35192616  6.67584327 -9.69495587\n",
      "   9.97275015  8.66045039]\n",
      " [ 4.49419366 -3.77876126 -3.26703278  6.78267467 -1.15807982  9.71279394\n",
      "  -9.64846224 -7.91949922]]\n"
     ]
    }
   ],
   "source": [
    "X = np.random.rand(10, 8)\n",
    "\n",
    "KMeans(X, 3, 0.01)"
   ]
  },
  {
   "cell_type": "code",
   "execution_count": null,
   "metadata": {},
   "outputs": [],
   "source": []
  }
 ],
 "metadata": {
  "kernelspec": {
   "display_name": "Python 3.8 (DL)",
   "language": "python",
   "name": "dl"
  },
  "language_info": {
   "codemirror_mode": {
    "name": "ipython",
    "version": 3
   },
   "file_extension": ".py",
   "mimetype": "text/x-python",
   "name": "python",
   "nbconvert_exporter": "python",
   "pygments_lexer": "ipython3",
   "version": "3.8.5"
  }
 },
 "nbformat": 4,
 "nbformat_minor": 4
}
