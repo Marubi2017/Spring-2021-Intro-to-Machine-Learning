{
 "cells": [
  {
   "cell_type": "markdown",
   "metadata": {},
   "source": [
    "# Week 3: Kernel Regression and Regularization\n",
    "\n",
    "## Lecture 6 (Mon, Jan 25) Kernel Regression\n",
    "\n",
    "Please see the notes in Canvas for details, but we derived the parameters of a local linear regression model in the neighborhood of the point $x_0$ for $d=1$ by minimizing the weighted squared error loss function,\n",
    "\n",
    "$$L(\\alpha(x_0),\\beta(x_0))=\\sum\\limits_{i=1}^N K_\\lambda(x_0,x_i)\\left(y_i - \\alpha(x_0) - \\beta(x_0)x_i\\right)^2$$\n",
    "\n",
    "The function $K_\\lambda$ is called a kernel, or weighting, function. Intuitively, it measures how similar two points are. If $x_i$ and $x_0$ are close, the kernel function will be large, so $x_i$ will have a larger impact on the local regression model. A common kernel function is the Gaussian kernel,\n",
    "\n",
    "$$K_\\lambda(x_0,x) = \\frac{1}{\\lambda}\\exp\\left(-\\frac{\\|x-x_0\\|_2^2}{2\\lambda}\\right)$$\n",
    "\n",
    "We found the parameters of the unknown function $f$ in the vicinity of $x_0$ to be\n",
    "\n",
    "$$\\begin{pmatrix} \\alpha(x_0) \\\\ \\beta(x_0)\\end{pmatrix} = (X^TW(x_0)X)^{-1}X^TW(x_0)y,$$\n",
    "\n",
    "where\n",
    "\n",
    "$$X = \\begin{pmatrix}1 & x_1\\\\ 1 & x_2 \\\\ \\vdots & \\vdots \\\\ 1 & x_n\\end{pmatrix}, \\quad y = \\begin{pmatrix}y_1 \\\\ y_2 \\\\ \\vdots \\\\ y_n\\end{pmatrix}, \\quad W(x_0)=\\begin{pmatrix}K_\\lambda(x_0,x_1) & & & \\\\ & K_\\lambda(x_0,x_2) & & \\\\ & & \\ddots & \\\\ & & & K_\\lambda(x_0,x_n)\\end{pmatrix}$$\n",
    "\n",
    "where $W(x_0)$ is a diagonal matrix, meaning all entries except the diagonal entries are 0.\n",
    "\n",
    "And, so, the local linear approximation of the unknown function $f$ at $x_0$ is\n",
    "\n",
    "\n",
    "$$\\hat{f}(x_0) = \\begin{pmatrix}1 & x_0\\end{pmatrix}(X^TW(x_0)X)^{-1}X^TW(x_0)y$$\n",
    "\n",
    "## Lecture 7 (Wed, Jan 27) Implementing Kernel Regression and Radial Basis Functions\n",
    "\n"
   ]
  },
  {
   "cell_type": "code",
   "execution_count": null,
   "metadata": {},
   "outputs": [],
   "source": []
  }
 ],
 "metadata": {
  "kernelspec": {
   "display_name": "Python 3.7 (DL)",
   "language": "python",
   "name": "dl"
  },
  "language_info": {
   "codemirror_mode": {
    "name": "ipython",
    "version": 3
   },
   "file_extension": ".py",
   "mimetype": "text/x-python",
   "name": "python",
   "nbconvert_exporter": "python",
   "pygments_lexer": "ipython3",
   "version": "3.7.7"
  }
 },
 "nbformat": 4,
 "nbformat_minor": 4
}
