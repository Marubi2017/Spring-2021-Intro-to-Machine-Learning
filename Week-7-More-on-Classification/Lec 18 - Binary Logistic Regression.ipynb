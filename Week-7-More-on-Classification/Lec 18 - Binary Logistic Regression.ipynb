{
 "cells": [
  {
   "cell_type": "code",
   "execution_count": 12,
   "metadata": {},
   "outputs": [],
   "source": [
    "import matplotlib.pyplot as plt\n",
    "import numpy as np\n",
    "import seaborn as sn\n",
    "\n",
    "from sklearn import datasets\n",
    "from sklearn.linear_model import LogisticRegression\n",
    "from sklearn.model_selection import train_test_split\n",
    "from sklearn.metrics import classification_report\n",
    "from sklearn.metrics import confusion_matrix\n",
    "from sklearn.metrics import accuracy_score\n",
    "from tensorflow.keras.datasets import mnist\n",
    "\n",
    "class BinaryLogisticRegression:\n",
    "    def fit(self, X, y, alpha, epochs, eps):\n",
    "        \n",
    "        X = np.hstack((np.ones([X.shape[0], 1]), X))\n",
    "        y = np.atleast_2d(y).T\n",
    "        \n",
    "        self.theta = np.ones([X.shape[1], 1])\n",
    "        \n",
    "        step = 0\n",
    "        thetagrad = eps + 1\n",
    "        \n",
    "        # loop until convergence happens or reach number of steps needed\n",
    "        while step < epochs and np.linalg.norm(thetagrad) > eps:\n",
    "            sig = self.sigmoid(X @ self.theta)\n",
    "            step += 1\n",
    "            \n",
    "            # compute the new gradient\n",
    "            thetagrad = X.T @ (sig - y)\n",
    "            \n",
    "            self.theta -= alpha * thetagrad\n",
    "            \n",
    "            if step == epochs:\n",
    "                print('Gradient descent did not converge')\n",
    "        \n",
    "    def predict(self, X):\n",
    "        X = np.hstack((np.ones([X.shape[0], 1]), X))\n",
    "        \n",
    "        # calculates y = 1 for each data inputted\n",
    "        return (self.sigmoid(X @ self.theta) >= 0.5).astype(float)\n",
    "        \n",
    "    def sigmoid(self, z):\n",
    "        return 1/(1 + np.exp(-z))"
   ]
  },
  {
   "cell_type": "code",
   "execution_count": 13,
   "metadata": {},
   "outputs": [
    {
     "name": "stdout",
     "output_type": "stream",
     "text": [
      "Gradient descent did not converge\n",
      "\n",
      "Classification Report:\n",
      "\n",
      "               precision    recall  f1-score   support\n",
      "\n",
      "           0       0.95      0.65      0.77        54\n",
      "           1       0.82      0.98      0.89        89\n",
      "\n",
      "    accuracy                           0.85       143\n",
      "   macro avg       0.88      0.81      0.83       143\n",
      "weighted avg       0.87      0.85      0.85       143\n",
      "\n",
      "\n",
      "Confusion Matrix:\n",
      "\n"
     ]
    },
    {
     "data": {
      "text/plain": [
       "<matplotlib.axes._subplots.AxesSubplot at 0x283371ea940>"
      ]
     },
     "execution_count": 13,
     "metadata": {},
     "output_type": "execute_result"
    },
    {
     "data": {
      "image/png": "[encoded data removed]",
      "text/plain": [
       "<Figure size 432x288 with 2 Axes>"
      ]
     },
     "metadata": {
      "needs_background": "light"
     },
     "output_type": "display_data"
    }
   ],
   "source": [
    "# import the breast cancer dataset\n",
    "breastcancer = datasets.load_breast_cancer()\n",
    "\n",
    "# find the data and labels\n",
    "X = breastcancer.data\n",
    "Y = breastcancer.target\n",
    "\n",
    "# split the data into train and test sets\n",
    "trainX, testX, trainY, testY = train_test_split(X, Y, test_size = 0.25)\n",
    "\n",
    "# build the classifier\n",
    "model = BinaryLogisticRegression()\n",
    "\n",
    "# fit the classifier to the training data\n",
    "model.fit(trainX, trainY, alpha = 0.01, epochs = 1000, eps = 0.01)\n",
    "\n",
    "# predict the labels of the test set\n",
    "predictedY = model.predict(testX)\n",
    "\n",
    "# print quality metrics\n",
    "print('\\nClassification Report:\\n\\n', classification_report(testY, predictedY))\n",
    "print('\\nConfusion Matrix:\\n')\n",
    "\n",
    "sn.heatmap(confusion_matrix(testY, predictedY), annot = True)"
   ]
  }
 ],
 "metadata": {
  "kernelspec": {
   "display_name": "Python 3",
   "language": "python",
   "name": "python3"
  },
  "language_info": {
   "codemirror_mode": {
    "name": "ipython",
    "version": 3
   },
   "file_extension": ".py",
   "mimetype": "text/x-python",
   "name": "python",
   "nbconvert_exporter": "python",
   "pygments_lexer": "ipython3",
   "version": "3.7.3"
  }
 },
 "nbformat": 4,
 "nbformat_minor": 2
}
