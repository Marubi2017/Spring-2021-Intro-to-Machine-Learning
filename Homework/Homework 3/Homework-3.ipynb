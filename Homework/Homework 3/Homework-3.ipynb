{
 "cells": [
  {
   "cell_type": "markdown",
   "metadata": {},
   "source": [
    "# MTH 4920/5050 Homework 3\n",
    "\n",
    "## Classification Methods\n",
    "\n",
    "**Deadline**: Tuesday, Mar 2\n",
    "\n",
    "**Points**: 35\n",
    "\n",
    "### Instructions\n",
    "\n",
    "Submit **one** Python notebook or PDF file for grading. If you submit a PDF, also submit code files.\n",
    "* Your file should include **text explanations** of your work, **well-commented code**, and the **outputs** from your code.\n",
    "* Any language I can easily run is acceptable, but I recommend Python.\n",
    "\n",
    "### Problems\n",
    "\n",
    "1. **[5 points]** Read the [CIFAR-10 dataset](https://www.cs.toronto.edu/%7Ekriz/cifar.html) (see some descriptive details below) into a NumPy array where each image is stored as a \"flattened\" vector of numbers, realizing each colored pixel has three numerical values: red, green, and blue intensity of the pixel.\n",
    "    \n",
    "    **Note**: CIFAR-10 is built into Keras as [tf.keras.datasets.cifar10](https://www.tensorflow.org/api_docs/python/tf/keras/datasets/cifar10) and TensorFlow is installed for use with Google Colab automatically. (Installing TensorFlow locally can be a hassle.)\n",
    "\n",
    "\n",
    "2. **[15 points]** Use the naive Bayes classifier, $k$-nearest neighbors classifier, and logistic regression to classify the CIFAR-10 dataset.\n",
    "\n",
    "   **Hint**: Feel free use my code, use models from `scikit-learn` (or elsewhere), or write your own.\n",
    "   \n",
    "   **Note**: If your computational resources make training on the whole dataset too costly, use a subset of at least 1000 images.\n",
    "   \n",
    "   \n",
    "3. **[15 points]** Choose one of the classifiers from Problem 2 and tune hyperparameters with 10-fold cross-validation to get the best mean F1 performance you can. For your final run on the test set, print the classification report, plot a confusion matrix, and discuss the types of errors your model makes.\n",
    "\n",
    "    **Bonus:** Whoever gets the best result in the sense of **F1-score** on the test set for each method will earn a 5 point bonus. (1 student will earn the bonus for each method. You can only submit 1 model.)\n",
    "    \n",
    "    To earn the bonus, the last bit of code in your document must be your run of the model once on a test set the model has never seen, compute the F1-score, and you must end your document with: \"*The F1-score using method **X** with hyperparameters **Y** is **Z***\"\n",
    "    \n",
    "**Note:** This is a fairly difficult problem for these methods to solve, so you probably will not find amazing accuracy."
   ]
  },
  {
   "cell_type": "markdown",
   "metadata": {},
   "source": [
    "### The CIFAR-10 Dataset Details\n",
    "\n",
    "The CIFAR-10 dataset includes 60,000 colored images of size 32-by-32 pixels. Each pixel of the image has a red, a green, and a blue value, so the dimension of each image is 32 x 32 x 3 = 3072, where each RGB value of each pixel is a number between 0 and 255.\n",
    "\n",
    "The images are classified as one of 10 classes: airplane, automobile, bird, cat, deer, dog, frog, horse, ship, or truck.\n",
    "\n",
    "![CIFAR-10](cifar10.png)\n",
    "\n",
    "By looking at some of the images, it should become clear that using an algorithm to classify this dataset should be significantly harder than classifying MNIST because there is much more variation in images within each class than in MNIST."
   ]
  }
 ],
 "metadata": {
  "kernelspec": {
   "display_name": "Python 3.8 (DL)",
   "language": "python",
   "name": "dl"
  },
  "language_info": {
   "codemirror_mode": {
    "name": "ipython",
    "version": 3
   },
   "file_extension": ".py",
   "mimetype": "text/x-python",
   "name": "python",
   "nbconvert_exporter": "python",
   "pygments_lexer": "ipython3",
   "version": "3.8.5"
  }
 },
 "nbformat": 4,
 "nbformat_minor": 4
}
