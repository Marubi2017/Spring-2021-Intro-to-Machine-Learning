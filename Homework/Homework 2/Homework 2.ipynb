{
 "cells": [
  {
   "cell_type": "markdown",
   "metadata": {},
   "source": [
    "# MTH 4920/5050 Homework 2\n",
    "\n",
    "## Gradient Descent and Local Regression\n",
    "\n",
    "**Deadline**: Tuesday, Feb 16\n",
    "\n",
    "**Points**: 35\n",
    "\n",
    "### Instructions\n",
    "\n",
    "Submit **one** Python notebook or PDF file for grading. If you submit a PDF, also submit code files.\n",
    "* Your file should include **text explanations** of your work, **well-commented code**, and the **outputs** from your code.\n",
    "* Any language I can easily run is acceptable, but I recommend Python.\n",
    "\n",
    "### Problems\n",
    "\n",
    "For problems 1 and 3, use the homework 2 dataset from [GitHub](https://github.com/rtwhite1546/Spring-2021-Intro-to-Machine-Learning/blob/main/Homework/data/homework-2-data.csv).\n",
    "\n",
    "1. **[5 points]** Fit a linear basis function model or a kernel smoothing model to the data and tune the hyperparameters of the model. (Run at least 20 experiments.)\n",
    "\n",
    "2. **[10 points]** There are many modifications of gradient decent that can help it run more quickly and more reliably reach effective local minima in the loss function.\n",
    "\n",
    "    1. Read about [momentum](https://distill.pub/2017/momentum/) and [Nesterov acceleration](https://ruder.io/optimizing-gradient-descent/) and implement both in a gradient decent algorithm.\n",
    "    \n",
    "    2. Write an implementation of gradient descent that will automatically test a customizable number of random points as starting points the method.\n",
    " \n",
    "3. **[20 points]** For this problem, focus on the radial basis functions model.\n",
    "\n",
    "    1. Modify the model to include $L^1$ and $L^2$ regularization, momentum, and Nesterov acceleration.\n",
    "\n",
    "    2. List *all* the hyperparameters for the model and tune the hyperparameters. (Run at least 20 experiments.)\n",
    "    \n",
    "**Note:** You should make appropriate use of a train set, a dev set, and a test set in tuning hyperparameters.\n"
   ]
  }
 ],
 "metadata": {
  "kernelspec": {
   "display_name": "Python 3.8 (DL)",
   "language": "python",
   "name": "dl"
  },
  "language_info": {
   "codemirror_mode": {
    "name": "ipython",
    "version": 3
   },
   "file_extension": ".py",
   "mimetype": "text/x-python",
   "name": "python",
   "nbconvert_exporter": "python",
   "pygments_lexer": "ipython3",
   "version": "3.8.5"
  }
 },
 "nbformat": 4,
 "nbformat_minor": 4
}
