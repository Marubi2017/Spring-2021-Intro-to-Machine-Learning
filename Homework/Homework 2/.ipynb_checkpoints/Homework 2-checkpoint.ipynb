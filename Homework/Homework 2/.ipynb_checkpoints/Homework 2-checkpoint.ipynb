{
 "cells": [
  {
   "cell_type": "markdown",
   "metadata": {},
   "source": [
    "# MTH 4920/5050 Homework 2\n",
    "\n",
    "## Gradient Descent and Local Regression\n",
    "\n",
    "**Deadline**: Tuesday, Feb 16\n",
    "\n",
    "**Points**: 40\n",
    "\n",
    "### Instructions\n",
    "\n",
    "Submit **one** Python notebook or PDF file for grading. If you submit a PDF, also submit code files.\n",
    "* Your submitted file should include **text explanations** of your work, **well-commented code**, the **outputs** from your code.\n",
    "* Any language I can easily run is acceptable, but I recommend Python.\n",
    "\n",
    "### Problems\n",
    "\n",
    "1. There are many modifications of gradient decent that can help it run more quickly and more reliably reach effective local minima in the loss function.\n",
    "\n",
    "    1. Read about [momentum](https://distill.pub/2017/momentum/) and [Nesterov acceleration](https://ruder.io/optimizing-gradient-descent/) and implement both in a gradient decent algorithm.\n",
    "    \n",
    "    2. Write an implementation of gradient descent that will automatically test a customizable number of random points as starting points the method.\n",
    " \n",
    "2. For this problem, use the dataset from [GitHub]()\n",
    " \n",
    "3. Modify the loss function of the radial basis function model to include $L^1$ and $L^2$ regularization"
   ]
  },
  {
   "cell_type": "code",
   "execution_count": null,
   "metadata": {},
   "outputs": [],
   "source": []
  }
 ],
 "metadata": {
  "kernelspec": {
   "display_name": "Python 3.8 (DL)",
   "language": "python",
   "name": "dl"
  },
  "language_info": {
   "codemirror_mode": {
    "name": "ipython",
    "version": 3
   },
   "file_extension": ".py",
   "mimetype": "text/x-python",
   "name": "python",
   "nbconvert_exporter": "python",
   "pygments_lexer": "ipython3",
   "version": "3.8.5"
  }
 },
 "nbformat": 4,
 "nbformat_minor": 4
}
