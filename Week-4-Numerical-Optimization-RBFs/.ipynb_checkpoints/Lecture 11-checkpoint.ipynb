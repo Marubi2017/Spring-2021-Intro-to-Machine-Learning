{
 "cells": [
  {
   "cell_type": "code",
   "execution_count": 1,
   "metadata": {},
   "outputs": [],
   "source": [
    "import numpy as np\n",
    "import matplotlib.pyplot as plt"
   ]
  },
  {
   "cell_type": "code",
   "execution_count": 3,
   "metadata": {},
   "outputs": [],
   "source": [
    "class GaussianRBFNetwork:\n",
    "    #intialize things\n",
    "    def __init__(self, d, M, alpha = 0.001):\n",
    "        self.d = d\n",
    "        self.M = M\n",
    "        self.alpha = alpha\n",
    "        \n",
    "        self.theta = np.random.uniform(-1, 1, size = (M + 1))\n",
    "        self.lam = np.random.uniform(0, 1, size = (M))\n",
    "        self.xi = np.random.uniform(0, 1, size = (M, d))\n",
    "        \n",
    "    #find the optimal model parameters\n",
    "    def fit(self, X, y, epochs = 1000):\n",
    "       # self.input = X\n",
    "        self.output = y\n",
    "        self.n = X.shape[0] \n",
    "        \n",
    "        \n",
    "        self.input = np.hstack((np.ones([self.n, 1]), X))\n",
    "        \n",
    "        XK = np.zeros([self.n, self.M])\n",
    "        # hstack vectors of 1s\n",
    "        XK = np.hstack((np.ones[self.n, 1]), XK)\n",
    "        \n",
    "        \n",
    "        for j in range(epochs):\n",
    "            # computing XK\n",
    "            for i in range(self.n):\n",
    "                for k in range(self.M):\n",
    "                    XK[i, k + 1] = self.GaussianKernel(X[i, :], self.xi[k], self.lam[k])\n",
    "            \n",
    "            error = XK @ self.theta - self.output\n",
    "            \n",
    "            weightederror = np.atleast_2d(error).T * XK\n",
    "            \n",
    "            thetagrad = np.sum(weigthederror, axis = 0)\n",
    "            \n",
    "            # weight update for thetas\n",
    "            self.theta -= alpha * thetagrad\n",
    "        \n",
    "    # predict outputs using optimal paramters\n",
    "    def predict(self, X):\n",
    "        # finds shape of X to know number of points inputted to be predicted\n",
    "        n = X.shape[0]\n",
    "        \n",
    "        XK = np.zeros([n, slef.M])\n",
    "        # hstack vectors of 1s\n",
    "        XK = np.hstack((np.ones[n, 1]), XK)\n",
    "        \n",
    "        XK = np.zeros([])\n",
    "        \n",
    "        for i in range(self.n):\n",
    "            for k in range(self.M):\n",
    "                XK[i, k + 1] = self.GaussianKernel(X[i, :], self.xi[k], self.lam[k])\n",
    "                \n",
    "        # return predictions\n",
    "        return XK @ self.theta\n",
    "        \n",
    "    # kernel function\n",
    "    def GaussianKernel(self, x, xi, lam):\n",
    "        return(1/lam) * np.exp(-np.linalg.norm(x - xi) **2/(2 * lam ** 2))"
   ]
  },
  {
   "cell_type": "code",
   "execution_count": null,
   "metadata": {},
   "outputs": [],
   "source": []
  }
 ],
 "metadata": {
  "kernelspec": {
   "display_name": "Python 3",
   "language": "python",
   "name": "python3"
  },
  "language_info": {
   "codemirror_mode": {
    "name": "ipython",
    "version": 3
   },
   "file_extension": ".py",
   "mimetype": "text/x-python",
   "name": "python",
   "nbconvert_exporter": "python",
   "pygments_lexer": "ipython3",
   "version": "3.7.3"
  }
 },
 "nbformat": 4,
 "nbformat_minor": 2
}
